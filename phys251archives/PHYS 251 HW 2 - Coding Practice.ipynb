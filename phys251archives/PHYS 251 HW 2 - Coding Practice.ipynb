{
 "cells": [
  {
   "cell_type": "markdown",
   "id": "01becf02",
   "metadata": {},
   "source": [
    "# #1 Playing with functions\n"
   ]
  },
  {
   "cell_type": "markdown",
   "id": "dba9b7d6",
   "metadata": {},
   "source": [
    "## &nbsp;&nbsp;&nbsp;&nbsp; a)"
   ]
  },
  {
   "cell_type": "code",
   "execution_count": 1,
   "id": "b1dd63f9",
   "metadata": {},
   "outputs": [
    {
     "name": "stdout",
     "output_type": "stream",
     "text": [
      "42\n"
     ]
    }
   ],
   "source": [
    "def multiply(x,y):    # Define function called \"multiply,\"\" taking two inputs (x,y)\n",
    "    m_output = x * y  # Set the value of the variable \"m_output\" to be the product of x and y\n",
    "    return m_output   # Return the value of \"m_output\"\n",
    "\n",
    "n = multiply(6,7)     # Call function \"multiply,\" passing to it the values 6 and 7 and storing the output in \"n\"\n",
    "print(n)              # Print the value of \"n\""
   ]
  },
  {
   "cell_type": "markdown",
   "id": "8d0dde34",
   "metadata": {},
   "source": [
    "## &nbsp;&nbsp;&nbsp;&nbsp; b)"
   ]
  },
  {
   "cell_type": "code",
   "execution_count": 2,
   "id": "9702dad3",
   "metadata": {},
   "outputs": [
    {
     "name": "stdout",
     "output_type": "stream",
     "text": [
      "42.0 meters per second\n"
     ]
    }
   ],
   "source": [
    "def getVelocity(d,t):                       # Define function called \"getVelocity,\" taking two inputs (d,t)\n",
    "    v_output = d / t                        # Set the value of variable \"v_output\" to be d divided by t\n",
    "    print(v_output, 'meters per second')    # Output value of \"v_output\" with units to the screen when getVelocity is called\n",
    "\n",
    "distance = 126                              # Establish a variable called \"distance\" and assign it the value 126 (meters)\n",
    "time = 3                                    # Define variable \"time\" and assign it the value 3 (seconds)\n",
    "\n",
    "getVelocity(distance,time)                  # Call getVelocity with inputs \"distance\" and \"time.\""
   ]
  },
  {
   "cell_type": "markdown",
   "id": "b8638935",
   "metadata": {},
   "source": [
    "## &nbsp;&nbsp;&nbsp;&nbsp; c)"
   ]
  },
  {
   "cell_type": "code",
   "execution_count": 3,
   "id": "1cbe22c2",
   "metadata": {
    "scrolled": true
   },
   "outputs": [
    {
     "name": "stdout",
     "output_type": "stream",
     "text": [
      "107.6 degrees F is 42.0 in degrees C.\n"
     ]
    }
   ],
   "source": [
    "# Define a function \"convertFtoC,\" taking an input value (in degrees F), \n",
    "# converting it to degrees C, and returning the Celcius value.\n",
    "def convertFtoC(t):\n",
    "    c_output = (5 / 9) * (t - 32)\n",
    "    return c_output\n",
    "\n",
    "temperature = 107.6\n",
    "\n",
    "# Output the converted temperature in degrees C by calling \n",
    "# \"convertFtoC\" inline in a print command, along with the\n",
    "# original temperature in degrees F and clarifying text.\n",
    "print(temperature, 'degrees F is', convertFtoC(temperature), 'in degrees C.')"
   ]
  },
  {
   "cell_type": "markdown",
   "id": "c90895ed",
   "metadata": {},
   "source": [
    "# #2 1-D projectile motion"
   ]
  },
  {
   "cell_type": "markdown",
   "id": "f40c52e5",
   "metadata": {},
   "source": [
    "(Not to be confused with the more dangerous dimensions of projectile motion.)"
   ]
  },
  {
   "cell_type": "markdown",
   "id": "9795f036",
   "metadata": {},
   "source": [
    "## &nbsp;&nbsp;&nbsp;&nbsp; a)"
   ]
  },
  {
   "cell_type": "code",
   "execution_count": 4,
   "id": "bf00742f",
   "metadata": {},
   "outputs": [],
   "source": [
    "def getHeight(a_y,v0_y,t):                         # Define function \"getHeight,\" accepting three variables (a, v_0, and t)\n",
    "    h_output = (v0_y * t) + ((1/2) * a_y * t**2)   # Calculate the vertical component of the projectile's motion\n",
    "    return h_output                                # Return the instantaneous height"
   ]
  },
  {
   "cell_type": "markdown",
   "id": "5fa1012c",
   "metadata": {},
   "source": [
    "## &nbsp;&nbsp;&nbsp;&nbsp; b)"
   ]
  },
  {
   "cell_type": "code",
   "execution_count": 5,
   "id": "55176e3f",
   "metadata": {},
   "outputs": [],
   "source": [
    "import numpy as np            # Import the \"do the numbers for me\" library\n",
    "\n",
    "times = np.linspace(0,2,10)   # Create a list of 10 time values evenly spaced between 0 and 2"
   ]
  },
  {
   "cell_type": "markdown",
   "id": "ac6be368",
   "metadata": {},
   "source": [
    "## &nbsp;&nbsp;&nbsp;&nbsp; c)"
   ]
  },
  {
   "cell_type": "code",
   "execution_count": 13,
   "id": "431c43fd",
   "metadata": {},
   "outputs": [],
   "source": [
    "acceleration = -9.8  # meters per squared second\n",
    "velocity_0 = 10      # meters per second"
   ]
  },
  {
   "cell_type": "markdown",
   "id": "52768f7b",
   "metadata": {},
   "source": [
    "## &nbsp;&nbsp;&nbsp;&nbsp; d)"
   ]
  },
  {
   "cell_type": "code",
   "execution_count": 14,
   "id": "4964e473",
   "metadata": {},
   "outputs": [],
   "source": [
    "heights = getHeight(acceleration, velocity_0, times) # Call the getHeight function, feeding it all the numbers."
   ]
  },
  {
   "cell_type": "markdown",
   "id": "a7e22376",
   "metadata": {},
   "source": [
    "## &nbsp;&nbsp;&nbsp;&nbsp; e)"
   ]
  },
  {
   "cell_type": "code",
   "execution_count": 8,
   "id": "12328e30",
   "metadata": {},
   "outputs": [
    {
     "data": {
      "text/plain": [
       "[<matplotlib.lines.Line2D at 0x7fbbe809bc70>]"
      ]
     },
     "execution_count": 8,
     "metadata": {},
     "output_type": "execute_result"
    },
    {
     "data": {
      "image/png": "[encoded data removed]",
      "text/plain": [
       "<Figure size 432x288 with 1 Axes>"
      ]
     },
     "metadata": {
      "needs_background": "light"
     },
     "output_type": "display_data"
    }
   ],
   "source": [
    "import matplotlib.pyplot as plt   # Import the \"make it pretty\" library\n",
    "\n",
    "plt.plot(times, heights)          # Plot the \"times\" values along the x-axis and the \"heights\" values along the y-axis"
   ]
  },
  {
   "cell_type": "markdown",
   "id": "8c2bb817",
   "metadata": {},
   "source": [
    "## &nbsp;&nbsp;&nbsp;&nbsp; f)"
   ]
  },
  {
   "cell_type": "code",
   "execution_count": 15,
   "id": "63f61529",
   "metadata": {},
   "outputs": [
    {
     "data": {
      "image/png": "[encoded data removed]",
      "text/plain": [
       "<Figure size 432x288 with 1 Axes>"
      ]
     },
     "metadata": {
      "needs_background": "light"
     },
     "output_type": "display_data"
    }
   ],
   "source": [
    "# Labels for everyone! Whole plot? Yup. X- and y-axes? Oh, yeah.\n",
    "plt.title('Height vs. Time of a Thrown Ball')\n",
    "plt.xlabel('time (seconds)')\n",
    "plt.ylabel('height (meters)')\n",
    "\n",
    "# Same plot, more VOLS. A thick orange line to show where that ball is,\n",
    "# and some nice light, \"sky\" blue dashes because Dr. Holmes likes gridlines\n",
    "# but I think they are distracting if overdone.\n",
    "plt.plot(times, heights, color = 'xkcd:orange', linewidth = 5)\n",
    "plt.grid(color = 'xkcd:sky', linestyle = '--')"
   ]
  },
  {
   "cell_type": "markdown",
   "id": "2d822588",
   "metadata": {},
   "source": [
    "## &nbsp;&nbsp;&nbsp;&nbsp; g)"
   ]
  },
  {
   "cell_type": "markdown",
   "id": "14298184",
   "metadata": {},
   "source": [
    "Increasing the initial velocity gives the curve a larger maximum height and spread. This makes sense, as the harder you throw a ball into the air, the longer it will stay aloft and the higher it will go. "
   ]
  },
  {
   "cell_type": "markdown",
   "id": "c5e5dab2",
   "metadata": {},
   "source": [
    "# #3 Time of ~~flight~~ coding"
   ]
  },
  {
   "cell_type": "markdown",
   "id": "1203c0f2",
   "metadata": {},
   "source": [
    "This assignment took about an hour and fifteen minutes to complete. "
   ]
  }
 ],
 "metadata": {
  "kernelspec": {
   "display_name": "Python 3 (ipykernel)",
   "language": "python",
   "name": "python3"
  },
  "language_info": {
   "codemirror_mode": {
    "name": "ipython",
    "version": 3
   },
   "file_extension": ".py",
   "mimetype": "text/x-python",
   "name": "python",
   "nbconvert_exporter": "python",
   "pygments_lexer": "ipython3",
   "version": "3.12.1"
  }
 },
 "nbformat": 4,
 "nbformat_minor": 5
}

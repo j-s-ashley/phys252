{
 "cells": [
  {
   "cell_type": "markdown",
   "id": "c0a3dfc8",
   "metadata": {},
   "source": [
    "# What are Jupyter Notebooks?\n",
    "\n",
    "We'll be working in a Jupyter Notebook (this!), which will let us run Python code on our datasets and generate plots and animations. This week I'll provide all the code, but as we continue on with the semester, you'll start writing some of your own.\n",
    "\n",
    "Jupyter notebooks can have `Code` cells, or `Markdown` cells (as well as some other things we probably won't use). You can use `Markdown` cells (like this one) to write up commentary and instructions. You can use `Code` cells to execute blocks of Python code. \n",
    "\n",
    "We can use a mixture of Markdown and LaTeX formatting to get points across inside our notebooks.\n",
    "\n",
    "Markdown uses very simple syntax and lets you: \n",
    "- Make lists\n",
    "- Create nice [links](https://www.markdownguide.org/basic-syntax/)\n",
    "- Create `code snippets` that ignore typical `#special syntax` for Markdown\n",
    "- And lots **more**\n",
    "\n",
    "LaTeX lets us add some math- and physics-specific flair:\n",
    "- Use mathematical symbols, like $\\phi$ and $\\mathscr{L}$\n",
    "- Write down inline formulae: $P(t) = \\frac{1}{\\tau}e^{-t/\\tau}$\n",
    "- And stand-alone ones like this:\n",
    "\n",
    "$$ \\Psi(x,t) = A\\sin(kx-\\omega t)\n",
    "$$\n",
    "\n",
    "The implementation of LaTeX here is using [MathJax](http://docs.mathjax.org/en/latest/input/tex/differences.html), which isn't always identical to conventional LaTeX. It only supports math-mode operations, and not text-mode things like lists and tables (which should be done in Markdown).\n",
    "\n",
    "You can insert external images with markdown as well:\n",
    "\n",
    "![downtown knoxville](https://www.etch.com/app/files/public/661ced9a-2245-4223-adb9-e6fe4e08577d/Knoxville%20Gay%20Stree-Bruce%20McCamish%20credit_17ca34d9-9366-4b92-b84e-dd042d4b05bb.jpg)\n",
    "\n",
    "If you want to control the sizing of them or anything else fancy, you can use [html syntax](https://www.w3schools.com/tags/tag_img.asp) inside of Markdown:\n",
    "\n",
    "<img src=https://tova.web.cern.ch/tova/dooseface.png width=200 /> \n",
    "\n",
    "You can do lots of fancy things to make your notebooks as pretty as possible, or you can stick to the simple stuff -- it's up to you!"
   ]
  },
  {
   "cell_type": "code",
   "execution_count": 16,
   "id": "4917fff4",
   "metadata": {},
   "outputs": [
    {
     "name": "stdout",
     "output_type": "stream",
     "text": [
      "Hello, world!\n",
      "What's 8 divided by 9?\n",
      "0.8888888888888888\n"
     ]
    }
   ],
   "source": [
    "# When writing blocks of code, use # at the beginning of the line to create a comment\n",
    "# Nothing after a # will be executed; you can put whatever you want here\n",
    "\n",
    "# Add lines of python code into a cell\n",
    "# Then hit shift+enter to run the cell (or click the Run button)\n",
    "\n",
    "print(\"Hello, world!\")\n",
    "\n",
    "# Do something vaguely useful\n",
    "print(\"What's 8 divided by 9?\")\n",
    "print(8/9)"
   ]
  },
  {
   "cell_type": "markdown",
   "id": "acec48a2",
   "metadata": {},
   "source": [
    "Now you've learned how to write comments, print values, and divide in Python -- let's learn a bit more. "
   ]
  },
  {
   "cell_type": "code",
   "execution_count": 2,
   "id": "0434ed10",
   "metadata": {},
   "outputs": [
    {
     "name": "stdout",
     "output_type": "stream",
     "text": [
      "Hello, world?\n",
      "Still here!\n"
     ]
    }
   ],
   "source": [
    "# Let's learn about conditionals\n",
    "# An important note: white space matters in Python\n",
    "# Toggle me: change True to False -- how does this change?\n",
    "myCondition = True\n",
    "if myCondition:\n",
    "    print(\"Hello, world?\")\n",
    "    print(\"Still here!\")\n",
    "else:\n",
    "    print(\"Goodbye.\")"
   ]
  },
  {
   "cell_type": "code",
   "execution_count": 3,
   "id": "fdd9b6dc",
   "metadata": {},
   "outputs": [
    {
     "name": "stdout",
     "output_type": "stream",
     "text": [
      "True 1 1 1.9\n",
      "<class 'bool'> <class 'int'> <class 'str'> <class 'float'>\n",
      "myFloat is a float!\n"
     ]
    }
   ],
   "source": [
    "# Above we created a variable called myCondition, and assigned it a value of True\n",
    "# We can create lots of different variables with lots of different data types\n",
    "# Here are some of the most common\n",
    "myBool = True    # Bools are booleans: either True or False\n",
    "myInt = 1        # Ints are integers\n",
    "myStr = \"1\"      # Strs are strings: snippets of text\n",
    "myFloat = 1.9    # Floats are numbers with decimal precision\n",
    "print (myBool, myInt, myStr, myFloat)\n",
    "print (type(myBool), type(myInt), type(myStr), type(myFloat))\n",
    "\n",
    "# Variables are automatically given data types based on what values you assign them in Python\n",
    "# In some other languages you have to tell them explicitly what they are, \n",
    "# but in Python, it will just adapt to what you put in it. The data type is also called a 'class'.\n",
    "# To check the type of a given variable you can just print it out.\n",
    "# You can also use this syntax to do it in the code itself\n",
    "\n",
    "if isinstance(myFloat, float):\n",
    "    print(\"myFloat is a float!\")"
   ]
  },
  {
   "cell_type": "code",
   "execution_count": 4,
   "id": "e0a0f27a",
   "metadata": {},
   "outputs": [
    {
     "name": "stdout",
     "output_type": "stream",
     "text": [
      "myBool: True - cast as an int: 1\n",
      "myFloat: 1.9 - cast as an int: 1\n",
      "myStr: 1 - cast as an int: 1\n"
     ]
    }
   ],
   "source": [
    "# If we have a variable with one data type, we can often cast it to another, so long as\n",
    "# Python knows how one data type corresponds to another.\n",
    "\n",
    "# Casting a boolean to an integer gives 1s and 0s\n",
    "print('myBool:', myBool, '- cast as an int:', int(myBool))\n",
    "\n",
    "# Casting a float as an integer truncates it (it doesn't round!)\n",
    "print('myFloat:', myFloat, '- cast as an int:', int(myFloat))\n",
    "\n",
    "# Casting a string (that looks like a number) as an int works as expected\n",
    "print('myStr:', myStr, '- cast as an int:', int(myStr))\n",
    "\n",
    "# Sometime things fail to cast. Try uncommenting these lines and execute -- what goes wrong?\n",
    "#newStr = 'Hello!'\n",
    "#print(int(newStr))"
   ]
  },
  {
   "cell_type": "code",
   "execution_count": 5,
   "id": "cbad1869",
   "metadata": {},
   "outputs": [
    {
     "name": "stdout",
     "output_type": "stream",
     "text": [
      "It's true!\n",
      "This is true too!\n",
      "This too!\n",
      "We can check if things aren't equal too.\n"
     ]
    }
   ],
   "source": [
    "# Some more details on conditionals and booleans\n",
    "# 0 evaluates to False, anything else evaluates to True\n",
    "myCondition = -5.4\n",
    "if myCondition:\n",
    "    print(\"It's true!\")\n",
    "\n",
    "# We can check if a statement is true, not just a variable\n",
    "# Use == for comparison (= is for assigning a variable)\n",
    "# x == y returns True if the two are equal, and otherwise returns False\n",
    "if bool(myCondition) == True:\n",
    "    print(\"This is true too!\")\n",
    "\n",
    "if \"stuff\" == \"stuff\":\n",
    "    print(\"This too!\")\n",
    "    \n",
    "if myCondition == True:\n",
    "    print(\"This one isn't! How come?\")\n",
    "    \n",
    "if \"a\" != \"b\":\n",
    "    print(\"We can check if things aren't equal too.\")"
   ]
  },
  {
   "cell_type": "code",
   "execution_count": 6,
   "id": "1366a507",
   "metadata": {},
   "outputs": [
    {
     "name": "stdout",
     "output_type": "stream",
     "text": [
      "x =  9 ; y =  3\n",
      "x+y: 12\n",
      "x-y: 6\n",
      "x/y: 3.0\n",
      "x*y: 27\n",
      "x**y: 729\n",
      "x^y: 10\n",
      "x%y: 0\n"
     ]
    }
   ],
   "source": [
    "# Math operations in Python\n",
    "# Pick two numbers and see if you can predict all the outputs \n",
    "# (it's OK if you skip the ^ operator! we definitely won't be using that!)\n",
    "\n",
    "x = 9\n",
    "y = 3\n",
    "\n",
    "print(\"x = \", x, \"; y = \", y)\n",
    "print(\"x+y:\", x+y)\n",
    "print(\"x-y:\", x-y)\n",
    "print(\"x/y:\", x/y) # This always produces a float in Python 3. In other languages can give you an int -- dangerous!\n",
    "print(\"x*y:\", x*y)\n",
    "print(\"x**y:\", x**y) # This is how we do exponents\n",
    "print(\"x^y:\", x^y) # This is not how we do exponents (this is a bit-wise XOR; very different!)\n",
    "print(\"x%y:\", x%y) # This is the modulo operator, gives the remainder of a division"
   ]
  },
  {
   "cell_type": "code",
   "execution_count": 7,
   "id": "159f6606",
   "metadata": {},
   "outputs": [
    {
     "name": "stdout",
     "output_type": "stream",
     "text": [
      "Dr. Holmes's class has begun\n",
      "The value of val is 8 .\n",
      "The value of val is 8.\n"
     ]
    }
   ],
   "source": [
    "# Some string extras\n",
    "\n",
    "# Single or double quotes?\n",
    "# Both do the same thing, but if you use double quotes you can use \n",
    "# apostrophes without terminating the string\n",
    "str1 = 'My Class'\n",
    "str2 = \"Dr. Holmes's class\"\n",
    "\n",
    "# Try uncommenting this line: what goes wrong?\n",
    "#str2 = 'Dr. Holmes's class'\n",
    "\n",
    "# We can combine strings\n",
    "str3 = ' has begun'\n",
    "fullStr = str2+str3\n",
    "print(fullStr)\n",
    "\n",
    "# String formatting\n",
    "val = 8\n",
    "print(\"The value of val is\", val, \".\")\n",
    "print(f\"The value of val is {val}.\")\n"
   ]
  },
  {
   "cell_type": "code",
   "execution_count": 8,
   "id": "9ba88f8a",
   "metadata": {},
   "outputs": [
    {
     "name": "stdout",
     "output_type": "stream",
     "text": [
      "3.0\n",
      "1.0\n",
      "1.2246467991473532e-16\n",
      "1.2490457723982544\n",
      "-1.892546881191539\n"
     ]
    }
   ],
   "source": [
    "# More complicated math\n",
    "# Python has many, many, many modules. These are extra packages that you can load in that\n",
    "# give you access to more functions. For almost any task you can imagine, there's a module.\n",
    "\n",
    "# To do more complicated math functions, we can use the math module:\n",
    "import math\n",
    "print(math.sqrt(9))\n",
    "print(math.sin(math.pi/2))\n",
    "print(math.sin(math.pi)) # Eeek what's going on here?\n",
    "print(math.atan((-3)/(-1))) # Arctan that doesn't keep track of the quadrant\n",
    "print(math.atan2(-3, -1)) # Arctan that keeps track of the quadrant"
   ]
  },
  {
   "cell_type": "code",
   "execution_count": 18,
   "id": "865df0eb",
   "metadata": {},
   "outputs": [
    {
     "name": "stdout",
     "output_type": "stream",
     "text": [
      "3.0\n",
      "[1.41421356 2.         2.44948974 2.82842712 3.16227766]\n",
      "<class 'list'>\n",
      "This entry is: 2\n",
      "This entry is: 4\n",
      "This entry is: 6\n",
      "This entry is: 8\n",
      "This entry is: 10\n"
     ]
    }
   ],
   "source": [
    "# We can also take these functions from the numpy module\n",
    "# They're almost identical, but they can now take in lists of numbers and perform the operation\n",
    "# on everything in the list\n",
    "import numpy as np\n",
    "print(np.sqrt(9))\n",
    "\n",
    "myList = [2, 4, 6, 8, 10]\n",
    "print(np.sqrt(myList))\n",
    "\n",
    "# A list is a new datatype, and it can store any kinds of datatypes inside of it\n",
    "print(type(myList))\n",
    "\n",
    "# You can loop over entries in a list very simply with a for loop:\n",
    "for val in myList:\n",
    "    print(\"This entry is:\", val)\n",
    "\n",
    "# Uncomment this line to see that the math module can't handle this\n",
    "#print(math.sqrt(myList))"
   ]
  },
  {
   "cell_type": "code",
   "execution_count": 9,
   "id": "73f70da4",
   "metadata": {},
   "outputs": [
    {
     "data": {
      "image/png": "[encoded data removed]",
      "text/plain": [
       "<Figure size 640x480 with 1 Axes>"
      ]
     },
     "metadata": {},
     "output_type": "display_data"
    }
   ],
   "source": [
    "# Making a plot\n",
    "# For this, we use a module called matplotlib, and in particular, its submodule pyplot\n",
    "from matplotlib import pyplot as plt\n",
    "\n",
    "# When we plot, we need a list of x points, and a list of y points\n",
    "# Let's try making one with a for loop\n",
    "# For loops let us execute the same code a configurable number of times\n",
    "\n",
    "n_points = 100\n",
    "x_step = 0.1\n",
    "x_values = []    # This is how we initialize an empty list. We're going to store all of our x points here.\n",
    "y_values = []    # And all of our y points here\n",
    "\n",
    "# In this loop, we'll generate a list of x and y values, where every y value \n",
    "# is the sin of the corresponding x value.\n",
    "# We'll once again use a for loop, but this time we'll make the list it iterates through with the range function\n",
    "for i in range(n_points):\n",
    "    x_val = i*x_step\n",
    "    y_val = math.sin(x_val)\n",
    "    x_values.append(x_val)\n",
    "    y_values.append(y_val)\n",
    "    \n",
    "# Try changing this to another function -- does it work?\n",
    "\n",
    "# This is how we plot those x and y points\n",
    "plt.plot(x_values, y_values)\n",
    "plt.show()"
   ]
  },
  {
   "cell_type": "code",
   "execution_count": 10,
   "id": "a089051e",
   "metadata": {},
   "outputs": [
    {
     "data": {
      "image/png": "[encoded data removed]",
      "text/plain": [
       "<Figure size 640x480 with 1 Axes>"
      ]
     },
     "metadata": {},
     "output_type": "display_data"
    }
   ],
   "source": [
    "# We can customize our plt too with some extra lines of code\n",
    "# Don't forget to label your axes!\n",
    "plt.plot(x_values, y_values, color='orange')\n",
    "plt.xlabel('x')\n",
    "plt.ylabel('y')\n",
    "plt.title('sin(x)')\n",
    "plt.grid(True)\n",
    "plt.show()"
   ]
  },
  {
   "cell_type": "markdown",
   "id": "364b9311",
   "metadata": {},
   "source": [
    "This is a lot at once, and I don't expect you to understand all of it right now! \n",
    "\n",
    "You won't have to write your own code to start with -- I'll just give you code and you can make small changes to it. But these are the fundamental building blocks we'll be working with this semester, and you can use this notebook as a reference to look back on, or a playground to try out new things. "
   ]
  }
 ],
 "metadata": {
  "kernelspec": {
   "display_name": "Python 3",
   "language": "python",
   "name": "python3"
  },
  "language_info": {
   "codemirror_mode": {
    "name": "ipython",
    "version": 3
   },
   "file_extension": ".py",
   "mimetype": "text/x-python",
   "name": "python",
   "nbconvert_exporter": "python",
   "pygments_lexer": "ipython3",
   "version": "3.8.8"
  }
 },
 "nbformat": 4,
 "nbformat_minor": 5
}

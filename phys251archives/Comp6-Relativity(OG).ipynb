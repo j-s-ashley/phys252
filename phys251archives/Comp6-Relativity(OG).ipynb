{
 "cells": [
  {
   "cell_type": "markdown",
   "id": "8463aec2",
   "metadata": {},
   "source": [
    "# In-Class 8+9: Special Relativity\n",
    "\n",
    "Today we're going to get our first look at the the physical consequences of Special Relativity. In class, you learned about length contraction and time dilation. We're going to explore the distortions these effects create in perception of the world around us, and the physical, measurable impact they have on the earth's surface.\n",
    "\n",
    "Special Relativity tells us that two observers moving very quickly with respect to one another will experience time and space differently. We often use the word _boost_ to refer to velocity difference between two frames. Observers that are boosted with respect to some other object will experience _length contraction_. The apparent length of an object depends on the size of the boost, defined as\n",
    "\n",
    "$$ L = \\frac{L_0}{\\gamma} $$.\n",
    "\n",
    "Here, $L$ is the observed distance between two points on an object, while $L_0$ is the distance between those points in the rest frame of the object. $\\gamma$ is the Lorentz factor, defined as\n",
    "\n",
    "$$ \\gamma = \\frac{1}{\\sqrt{1-\\frac{v^2}{c^2}}} $$.\n",
    "\n",
    "From this equation, it should be clear that $\\gamma$ is approximately 1 when speeds are much smaller than the speed of light, and gets larger and larger (approaching infinity) as speeds get closer to the speed of light. As far as we know, it's not possible for an observer to exceed the speed of light (with some interesting exceptions in the inflationary period of expansion we think occurred after the big bang - but that's a topic for another time!)\n",
    "\n",
    "Importantly, _length is only contracted in the direction of boost_. If you are flying above the surface of the Earth at relativistic speeds, the earth will appear to contract in the direction you're flying in, but if you look left or right, distances along that axis will be preserved. \n",
    "\n",
    "Clocks also behave differently with different boost. Observers that are boosted with respect to one another will also experience _time dilation_. Two events will seem further apart to an observer if they're occuring in a frame boosted with respect to them. To that observer, time will appear as\n",
    "\n",
    "$$ \\Delta t = \\gamma\\Delta t_0 $$.\n",
    "\n",
    "Here $\\Delta t_0$ represents the time interval between two instances in the rest frame of those events, while $\\Delta t$ gives the apparent time interval to the observer moving at velocity $v$. This means, for example, that if you were to fly away from the earth at relativistics speeds, to someone on earth, you would appear to be aging more slowly than them. (The interpretation of this can be tricky and leads to something called the twin paradox -- check it out if you're curious!)\n",
    "\n",
    "_To summarize, as you move past an object, its length (in the direction of your boost) will appear to shrink, and its clock will appear to move more slowly._\n",
    "\n",
    "Today we'll work with simulating the impact of these two effects. "
   ]
  },
  {
   "cell_type": "markdown",
   "id": "e31b3946",
   "metadata": {},
   "source": [
    "## Calculating $\\gamma$\n",
    "\n",
    "To start out, let's write a function that gives us our $\\gamma$ value when given a speed. **Below, write a function called `getGamma()` that takes a velocity as an argument, and returns the  the value of $\\gamma$**. \n",
    "\n",
    "Import any modules you need, and define any constants you need. (PS, the speed of light is 299792458 m/s.)"
   ]
  },
  {
   "cell_type": "code",
   "execution_count": null,
   "id": "52cf02a0",
   "metadata": {},
   "outputs": [],
   "source": [
    "# TODO"
   ]
  },
  {
   "cell_type": "markdown",
   "id": "0ad1e0a7",
   "metadata": {},
   "source": [
    "We define the variable $\\beta = v/c$. **Make a plot of $\\gamma$ as a function of $\\beta$ using the function you defined.**\n",
    "\n",
    "Some tips:\n",
    "* Import any modules you need\n",
    "* Don't forget to label your axes. You can use Greek letters in your labels but you need to use \"raw\" strings, or python will get confused about how to interpret your backslashes. It looks something like this: `plt.xlabel(r\"$\\beta$\")`\n",
    "* Think carefully about what range you want for your x axis"
   ]
  },
  {
   "cell_type": "code",
   "execution_count": null,
   "id": "c990b505",
   "metadata": {},
   "outputs": [],
   "source": [
    "# TODO"
   ]
  },
  {
   "cell_type": "markdown",
   "id": "68e58e56",
   "metadata": {},
   "source": [
    "Now that you've got that working, let's code up our time dilation and length contraction. **Write two functions below: `contractLength()` and `dilateTime()` that each take velocity as an input, as well as either $L_0$ or $\\Delta t_0$, depending on the function, and return the apparent $L$ or $\\Delta t$ to the observer.** You can use the function you just defined inside of these functions."
   ]
  },
  {
   "cell_type": "code",
   "execution_count": null,
   "id": "4c3a1fa6",
   "metadata": {},
   "outputs": [],
   "source": [
    "# TODO"
   ]
  },
  {
   "cell_type": "markdown",
   "id": "b8b6e3c3",
   "metadata": {},
   "source": [
    "I'll handle this next part: below I wrote a function that draws a polygon for us, and I defined a shape and drew it. Imagine that this shape is lying flat on the ground, and you go flying over it at relativistic speeds. What happens to the shape you observe? We'll simulate this in the next few cells."
   ]
  },
  {
   "cell_type": "code",
   "execution_count": null,
   "id": "2ce0fce0",
   "metadata": {},
   "outputs": [],
   "source": [
    "# We'll use the Polygon library to draw our shape\n",
    "from matplotlib.patches import Polygon\n",
    "\n",
    "# This function will actually put the shape on a figure\n",
    "# It can also draw it as a dotted line \n",
    "# -- we'll use that later so we can compare our initial shape to the transformed one\n",
    "def drawPolygon(fig, ax, points, dotted=False): \n",
    "    p = Polygon(points)\n",
    "    if dotted: \n",
    "        p.set(fill=None, linestyle='--')\n",
    "    ax.add_patch(p)\n",
    "    plt.axis('scaled')\n",
    "    plt.ylim(-0.5,1.5)\n",
    "    plt.xlim(-0.5,1.5)\n",
    "\n",
    "# Here's where we'll define our shape. It's just a random shape made by connecting \n",
    "# these 4 points and filling it in.\n",
    "rest_point1 = [0,0]\n",
    "rest_point2 = [0.5, np.sqrt(3)/2]\n",
    "rest_point3 = [1,0]\n",
    "rest_point4 = [0, 0.5]\n",
    "rest_points = np.array([rest_point1, rest_point2, rest_point3, rest_point4])\n",
    "\n",
    "# Here we make our figure, then draw the polygon on it.\n",
    "fig, ax = plt.subplots()\n",
    "drawPolygon(fig, ax, rest_points)\n"
   ]
  },
  {
   "cell_type": "markdown",
   "id": "1ef1d866",
   "metadata": {},
   "source": [
    "Now we need to show what happens if we use our `contractLength()` function to modify the shape? Below is code that takes the function you defined, and uses it to draw the change in the shape as you change your velocity. This shows what happens if you boost in the x direction."
   ]
  },
  {
   "cell_type": "code",
   "execution_count": null,
   "id": "561b1350",
   "metadata": {},
   "outputs": [],
   "source": [
    "# How do you view the shape if you are moving past it in the x direction at velocity v?\n",
    "# We'll do this with a slider so we can play with the boost\n",
    "from ipywidgets import interact, FloatSlider\n",
    "from copy import copy\n",
    "\n",
    "# This function draws the original shape (with a dotted line)\n",
    "# Then it draws the shape you'd see if you were passing by it with some velocity v \n",
    "# in the x direction.\n",
    "def boostX(beta):\n",
    "    # Draw the original shape\n",
    "    fig, ax = plt.subplots()\n",
    "    drawPolygon(fig, ax, rest_points, dotted=True)\n",
    "    \n",
    "    # Create a copy of the shape points\n",
    "    boosted_points = rest_points.copy()\n",
    "    \n",
    "    # For every set of points (:), choose the first coordinate (0) and replace it\n",
    "    # with the length contracted version, then draw\n",
    "    boosted_points[:,0] = contractLength(boosted_points[:,0], beta*speed_of_light)\n",
    "    drawPolygon(fig, ax, boosted_points)\n",
    "    \n",
    "    # Draw vector for velocity that scales in size with beta\n",
    "    plt.arrow(-0.1,-0.1,beta,0, head_width = 0.05, \n",
    "              edgecolor=\"orange\", facecolor=\"orange\", label=r\"$\\beta$\")\n",
    "    plt.legend()\n",
    "\n",
    "# Call the function via \"interact\", which lets you control it with a slider\n",
    "interact(boostX, beta=FloatSlider(min=0, max=0.9999, step=0.1, value=0.5))"
   ]
  },
  {
   "cell_type": "markdown",
   "id": "8913dd13",
   "metadata": {},
   "source": [
    "Play with the slider and observe the effects. \n",
    "\n",
    "**Is your function working? How can you tell? Describe what you see and whether it agrees with your expectations from what you know about length contraction.**\n",
    "\n",
    "**Try playing with the maximum value of $\\beta$, making it even closer to 1. What happens?**\n",
    "\n",
    "**What happens if you make $\\beta$ 1? Why?**\n",
    "\n",
    "Now it's your turn. **Below, create a function `boostY()` that does the same thing as boostX(), but for a boost in the y direction. Modify the drawing of the arrow as well so it points in the y direction and scales with $\\beta$. Finally, call the function with `interact()` as in the previous example to get your plot controlled by a slider.**"
   ]
  },
  {
   "cell_type": "code",
   "execution_count": null,
   "id": "e713cb99",
   "metadata": {},
   "outputs": [],
   "source": [
    "# TODO: How do you view the shape if you're moving past it in the y direction at velocity v?"
   ]
  },
  {
   "cell_type": "markdown",
   "id": "668d1234",
   "metadata": {},
   "source": [
    "Now it's time to combine the two effects. What happens if the boost is at some angle $\\theta$ in the x-y plane? **Below, define the function `boostAngle()` which takes both $\\beta$ and an angle $\\theta$ as arguments, and draws the length-contracted shape. Also draw the boost arrow that shows the angle, and scales with the size of $\\beta$. Call the function with `interact()`, letting both $\\beta$ and $\\theta$ be contolled by sliders.** "
   ]
  },
  {
   "cell_type": "code",
   "execution_count": null,
   "id": "40ee027a",
   "metadata": {
    "scrolled": true
   },
   "outputs": [],
   "source": [
    "# TODO: How do you view the shape if you're moving past it at some angle in the x y plane?"
   ]
  },
  {
   "cell_type": "markdown",
   "id": "bf0d2c9c",
   "metadata": {},
   "source": [
    "**Does the final shape depend on the angle of the boost? Why or why not?**\n",
    "\n",
    "**What happens now if you make $\\beta$ 1? Does it depend on angle? What do you think is going on here? Do you think you accounted for all the effects when you did your calculation? (It's ok if you didn't, so long as you can explain what's missing. Extra credit if you can get it implemented correctly.)**"
   ]
  },
  {
   "cell_type": "markdown",
   "id": "3d00fc03",
   "metadata": {},
   "source": [
    "### _For a challenge..._\n",
    "\n",
    "Today's challenges use our time dilation function. Coding-wise, they're simpler than the rest of the in-class, but they require some thought about how time dilation actually works. Give them a try if you'd like, or ignore this completely! Bonus points will be given for these tasks.\n",
    "\n",
    "The task involves understanding what happens when cosmic rays hit our atmosphere. These high energy particles interact with the molecules in our atmosphere and produce particles called muons, the more massive cousin of the electron. These muons aren't stable: they decay to electrons and neutrinos with a decay constant $\\tau = 2.2 \\mu\\mathrm{s}$. For the purposes of this in-class, we'll assume that the muons are produced in collisions that occur 10 km above the earth's surface, and the muons travel straight down to the earth from there. \n",
    "\n",
    "The probability that a particle hasn't decayed as a function of time given a lifetime $\\tau$ is\n",
    "\n",
    "$$ P_\\mathrm{not~decayed} = e^{-t/\\tau} $$\n",
    "\n",
    "where the time is in the rest frame of the particle itself, not the earth.\n",
    "\n",
    "Your tasks are to:\n",
    "1. Make a plot of the probability that the particle hasn't decayed as a function of time from the frame of the particle.\n",
    "2. Make a plot of the probability that the particle hasn't decayed as a function of time from the frame of the earth. Begin by assuming $\\beta = 0.999$. \n",
    "3. Make a plot of the probability that the particle hasn't decayed as a function of distance traveled in the earth's frame, assuming no effects from special relativity. What is the probability a given muon will make it to the earth?\n",
    "4. Make a plot of the probability that the particle hasn't decayed as a function of distance traveled in the earth's frame, including effects from special relativity. What is the probability a given muon will make it to the earth?"
   ]
  }
 ],
 "metadata": {
  "kernelspec": {
   "display_name": "Python 3",
   "language": "python",
   "name": "python3"
  },
  "language_info": {
   "codemirror_mode": {
    "name": "ipython",
    "version": 3
   },
   "file_extension": ".py",
   "mimetype": "text/x-python",
   "name": "python",
   "nbconvert_exporter": "python",
   "pygments_lexer": "ipython3",
   "version": "3.8.8"
  }
 },
 "nbformat": 4,
 "nbformat_minor": 5
}

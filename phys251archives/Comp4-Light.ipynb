{
 "cells": [
  {
   "cell_type": "markdown",
   "id": "3ecf81e8",
   "metadata": {},
   "source": [
    "# In-Class 4: Light\n",
    "\n",
    "In this week's lab, we learned about light propagation and polarizers, demonstrating the inverse square law and Malus's law. Today, we'll learn a bit about fitting, and try to extract more information from the data you took in lab. "
   ]
  },
  {
   "cell_type": "markdown",
   "id": "834dd521",
   "metadata": {},
   "source": [
    "## Inverse Square Law\n",
    "\n",
    "This week, the data we took isn't so easy to import, because it wasn't a simple CSV with column headers and values for a bunch of different measurements. When we've imported data in the past, we've made sure to put it in that form first. So what do we do to use our data? \n",
    "\n",
    "In general, we have two options: clean it up and import it, or enter it manually. **I'll explain how to clean the data, but today we're going to enter it manually (so you can learn a bit about lists and dictionaries).**\n",
    "\n",
    "### Cleaning data\n",
    "\n",
    "If you want to import data, we need a simple structure. Row 0 should contain labels for the types of data you gathered, and all other rows should be the values of that data for each measurement you took. That means that you essentially need to drop the sections you created about background intensity and sensor offset to get it into that format. \n",
    "\n",
    "If you want to keep that data, you have two choices. You can add a new column for those parameters, and enter the same value for each measurement, or you can just manually define those variables in your code. \n",
    "\n",
    "If you do all of that, you should be able to export your spreadsheet as a CSV and import it the same way we usually do. But that's not what we're doing today!\n",
    "\n",
    "### Entering data manually\n",
    "\n",
    "Sometimes the effort to clean data is more than just entering it manually, especially when you have a pretty small dataset like we do. If that's the case, you can just manually create your own data structure. \n",
    "\n",
    "We'll store the data in an object called a [dictionary](https://docs.python.org/3/tutorial/datastructures.html#dictionaries). Before we learn about dictionaries, it's helpful to first learn about a more simple object, a [list](https://docs.python.org/3/tutorial/introduction.html#lists). \n",
    "\n",
    "A list is a collection of objects that have a fixed order. We define them like this:\n",
    "\n",
    "`myList = [\"a\", \"b\", \"c\", \"d\"]`\n",
    "\n",
    "That creates a list of strings, and I can access the values I stored in the list by their indices. I could type for example, `print(myList[1])`, and it would print `b` (in computer science we start counting at 0!) We can store anything we want in a list, including other lists.\n",
    "\n",
    "```\n",
    "myList = [ [\"a\", \"b\", \"c\"],\n",
    "           [\"i\", \"j\", \"k\"],\n",
    "           [\"x\", \"y\", \"z\"] ]\n",
    "```\n",
    "\n",
    "This is called a nested list. If we executed `print(myList[1])` now, we'd get a list, `['i', 'j', 'k']`. If we want an individual element, we can just index the list again -- `myList[1]` returns a list object, so to get e.g. the `k` out of that list we can say `myList[1][2]`. You can test all of this out if you'd like to get more familiar with it.\n",
    "\n",
    "Not everything in the list has to be the same object type: Python is extremely flexible and lets you store any mix you like. But be careful -- this can be confusing to parse! \n",
    "\n",
    "A dictionary is like a list, but it lets us do something very useful: label our data. Instead of relying on the numeric indices to access data, we can give it a unique value to use to access it. This value can be anything (a string, an int, a float...) but each one has to be unique. Most often use strings. \n",
    "\n",
    "Let's say I wanted to store all the grades for my course. I could make a list of grades for each student, and label the lists with their names. The syntax looks like this:\n",
    "\n",
    "```\n",
    "classGrades = { \"Amy\": [100, 90, 98],\n",
    "                \"Ben\": [87, 95, 92],\n",
    "                \"Sam\": [94, 98, 94]  }\n",
    "```\n",
    "\n",
    "Now instead of asking for indices, I can use names to grab this data. I could get Sam's grades by typing `classGrades[\"Sam\"]`, which would return the full list. If I wanted to average Sam's grades, I could use this: `avg = sum(classGrades[\"Sam\"]) / len(classGrades[\"Sam\"])`. We can perform simple operations like these on lists. \n",
    "\n",
    "We can add more entries to the dictionary after the fact. If I wanted to add in another student, I can just do this:\n",
    "\n",
    "`classGrades[\"Dan\"] = [78, 88, 95]`\n",
    "\n",
    "This dictionary didn't have to have lists in it -- it could be any object, including another dictionary (nested dictionaries!). It could also just be a a simple int. These data structures are extremely flexible, and really let us store whatever we want. We just need to think carefully about how to store data so we can easily get it out again.\n",
    "\n",
    "Play around with the example below to get a feel for this if you like. (Don't mess with the class grade values though, I'm about to ask you to do something with them!)"
   ]
  },
  {
   "cell_type": "code",
   "execution_count": 1,
   "id": "761b5ac1",
   "metadata": {},
   "outputs": [
    {
     "name": "stdout",
     "output_type": "stream",
     "text": [
      "b\n",
      "['i', 'j', 'k']\n",
      "k\n",
      "[94, 98, 94]\n",
      "95.33333333333333\n",
      "{'Amy': [100, 90, 98], 'Ben': [87, 95, 92], 'Sam': [94, 98, 94], 'Dan': [78, 88, 95]}\n"
     ]
    }
   ],
   "source": [
    "myList = [\"a\", \"b\", \"c\", \"d\"]\n",
    "print(myList[1])\n",
    "\n",
    "myList = [ [\"a\", \"b\", \"c\"],\n",
    "           [\"i\", \"j\", \"k\"],\n",
    "           [\"x\", \"y\", \"z\"] ]\n",
    "print(myList[1])\n",
    "print(myList[1][2])\n",
    "\n",
    "classGrades = { \"Amy\": [100, 90, 98],\n",
    "                \"Ben\": [87, 95, 92],\n",
    "                \"Sam\": [94, 98, 94]  }\n",
    "print(classGrades[\"Sam\"])\n",
    "avg = sum(classGrades[\"Sam\"]) / len(classGrades[\"Sam\"])\n",
    "print(avg)\n",
    "\n",
    "classGrades[\"Dan\"] = [78, 88, 95]\n",
    "print(classGrades)"
   ]
  },
  {
   "cell_type": "markdown",
   "id": "041095e8",
   "metadata": {},
   "source": [
    "### Add your conclusions here:\n",
    "\n",
    "#### What is the difference between a dictionary and a list? What's a circumstance where you might want to use each?\n",
    "\n",
    "A dictionary allows you to associate values with one another in more ways than a list does. A list is useful for storing massive amounts of data that only needs to maintain its order. A dictionary adds complexity to maintain additional information about each value, such as, for instance, context. Lists are great for storing data from a single column in a CSV file. A dictionary would be more appropriate for holding the entire contents of a small table in a spreadsheet."
   ]
  },
  {
   "cell_type": "code",
   "execution_count": 2,
   "id": "ea3000e4",
   "metadata": {},
   "outputs": [
    {
     "name": "stdout",
     "output_type": "stream",
     "text": [
      "89.75\n"
     ]
    }
   ],
   "source": [
    "# TODO: Calculate and print out the class average for the first test (including all 4 students)\n",
    "import numpy as np\n",
    "import statistics as stat\n",
    "\n",
    "firstTestScores = []\n",
    "\n",
    "for name, val in classGrades.items():\n",
    "    firstTestScores.append(val[0])\n",
    "\n",
    "print(stat.mean(firstTestScores))"
   ]
  },
  {
   "cell_type": "markdown",
   "id": "018be949",
   "metadata": {},
   "source": [
    "OK, hopefully now you have a basic idea of what lists and dictionaries can do for you, and the difference between them. If you want to use a dictionary to enter your data, what should it look like? What structure makes sense for the data you have, and will let you access the data to plot it? Remember that when you ultimately make a plot, you'll be handing the plotter a list of x values and a list of y values. "
   ]
  },
  {
   "cell_type": "code",
   "execution_count": 3,
   "id": "17a12931",
   "metadata": {},
   "outputs": [],
   "source": [
    "# TODO: Enter your data here.\n",
    "# Store your data in a variable called myData\n",
    "# My code snippets assume you'll use the labels \n",
    "# \"base\", \"base_frac_unc\", \"intensity\", \"intensity_frac_unc\"\n",
    "\n",
    "myData = {\n",
    "        \"base\": [55, 52, 49, 46, 43, 40, 37, 30, 27, 17],\n",
    "        \"base_frac_unc\": [(0.1/55), (0.1/52), (0.1/49), (0.1/46), (0.1/43), (0.1/40), (0.1/37), (0.1/30), (0.1/27), (0.1/17)],\n",
    "        \"intensity\": [0.88, 0.94, 1.05, 1.21, 1.42, 1.72, 2.12, 4.12, 6.18, 95.34],\n",
    "        \"intensity_frac_unc\": [(0.02/0.88), (0.01/0.94), (0.02/1.05), (0.01/1.21), (0.02/1.42), (0.01/1.72), (0.01/2.12), (0.01/4.12), (0.01/6.18), (0.01/95.34)]\n",
    "         }\n"
   ]
  },
  {
   "cell_type": "markdown",
   "id": "1de86c9e",
   "metadata": {},
   "source": [
    "We don't quite have everything we need yet -- when we plot, we need to have our uncertainty in the same units as our central values, while we currently have a fractional uncertainty (unitless). We can fix this by calculating those values with the lists we already have and adding them to our dictionary."
   ]
  },
  {
   "cell_type": "code",
   "execution_count": 4,
   "id": "288e45ba",
   "metadata": {},
   "outputs": [
    {
     "name": "stdout",
     "output_type": "stream",
     "text": [
      "[0.02, 0.01, 0.02, 0.01, 0.02, 0.01, 0.01, 0.01, 0.01, 0.01]\n",
      "[0.1, 0.1, 0.1, 0.1, 0.1, 0.1, 0.1, 0.1, 0.1, 0.1]\n"
     ]
    }
   ],
   "source": [
    "# Write a function that can turn a list with fractional uncertainty \n",
    "# into a list with uncertainty in the same units as the parameter\n",
    "\n",
    "# The function takes the list of values and list of fractional uncertainties as arguments\n",
    "# It needs to return a list of uncertainties in whatever units the base list is in\n",
    "def getUncertainty(values_list, frac_unc_list):\n",
    "    unc_list = []\n",
    "    \n",
    "    i = 0\n",
    "    \n",
    "    while i < len(values_list):\n",
    "        unc_list.append(frac_unc_list[i]*values_list[i])\n",
    "        i += 1\n",
    "\n",
    "    return unc_list\n",
    "\n",
    "# We'll call this function twice, once for intensity and once for base location\n",
    "# Each time we'll pass the function the value list and the fractional uncertainty list for the variable\n",
    "# Each time it will return a list, meaning once we evaluate getUncertainty(x,y), we'll get a list object back\n",
    "# We can store that list in a variable, or we can put it directly into our dictionary\n",
    "# Below is the syntax to put it into the dictionary with new labels so we can grab it later:\n",
    "myData[\"intensity_unc\"] = getUncertainty(myData[\"intensity\"], myData[\"intensity_frac_unc\"])\n",
    "myData[\"base_unc\"] = getUncertainty(myData[\"base\"], myData[\"base_frac_unc\"])\n",
    "\n",
    "print(myData[\"intensity_unc\"])\n",
    "print(myData[\"base_unc\"])"
   ]
  },
  {
   "cell_type": "markdown",
   "id": "fc7b1daa",
   "metadata": {},
   "source": [
    "Doing that in loop form is a lot of work. This is one of the reasons we use Pandas and Numpy so much. These both let us perform \"columnar operations\", i.e. they let us do things like multiply one column of data by another without explicitly writing out a loop. They can also do it faster, which is a big deal if you have a really large dataset.\n",
    "\n",
    "Below is an example of how you can convert a dictionary to a Pandas dataframe, and how you can use the dataframe to quickly calculate the same values you calculated with much more effort above. You don't need to understand all the details of Pandas for this class, but we're going to be using it from time to time. "
   ]
  },
  {
   "cell_type": "code",
   "execution_count": 5,
   "id": "54a9d1fb",
   "metadata": {},
   "outputs": [
    {
     "name": "stdout",
     "output_type": "stream",
     "text": [
      "   base  base_frac_unc  intensity  intensity_frac_unc  intensity_unc  base_unc\n",
      "0    55       0.001818       0.88            0.022727           0.02       0.1\n",
      "1    52       0.001923       0.94            0.010638           0.01       0.1\n",
      "2    49       0.002041       1.05            0.019048           0.02       0.1\n",
      "3    46       0.002174       1.21            0.008264           0.01       0.1\n",
      "4    43       0.002326       1.42            0.014085           0.02       0.1\n",
      "5    40       0.002500       1.72            0.005814           0.01       0.1\n",
      "6    37       0.002703       2.12            0.004717           0.01       0.1\n",
      "7    30       0.003333       4.12            0.002427           0.01       0.1\n",
      "8    27       0.003704       6.18            0.001618           0.01       0.1\n",
      "9    17       0.005882      95.34            0.000105           0.01       0.1\n",
      "\n",
      "Here are some examples of calculations:\n",
      "0    0.1\n",
      "1    0.1\n",
      "2    0.1\n",
      "3    0.1\n",
      "4    0.1\n",
      "5    0.1\n",
      "6    0.1\n",
      "7    0.1\n",
      "8    0.1\n",
      "9    0.1\n",
      "dtype: float64\n",
      "0    0.02\n",
      "1    0.01\n",
      "2    0.02\n",
      "3    0.01\n",
      "4    0.02\n",
      "5    0.01\n",
      "6    0.01\n",
      "7    0.01\n",
      "8    0.01\n",
      "9    0.01\n",
      "dtype: float64\n",
      "\n",
      "Here's the average we calculated earlier:\n",
      "   Amy  Ben  Sam  Dan\n",
      "0  100   87   94   78\n",
      "1   90   95   98   88\n",
      "2   98   92   94   95\n",
      "Average of the first test: 89.75\n"
     ]
    }
   ],
   "source": [
    "# First we have to import pandas, then convert our dictionary into a dataframe\n",
    "import pandas as pd\n",
    "myPdData = pd.DataFrame.from_dict(myData)\n",
    "print(myPdData)\n",
    "# Notice that even the print out of the dataframe is a little better suited \n",
    "# to this kind of data compared to the simple dictionary.\n",
    "\n",
    "# Once that's done, we can just simpily multiply columns. If we wanted to keep using this, \n",
    "# we would store these values back into the dataframe, the same way we did for myData.\n",
    "print(\"\\nHere are some examples of calculations:\")\n",
    "print(myPdData[\"base\"]*myPdData[\"base_frac_unc\"])\n",
    "print(myPdData[\"intensity\"]*myPdData[\"intensity_frac_unc\"])\n",
    "\n",
    "# We could also use pandas for the classGrades example above\n",
    "# The fuction iloc lets us grab a row of our choice \n",
    "# (Look at the print-out to see what I mean by 'row' vs 'column')\n",
    "# and the built in averaging function makes our life very easy\n",
    "pdClassGrades = pd.DataFrame.from_dict(classGrades)\n",
    "print(\"\\nHere's the average we calculated earlier:\")\n",
    "print(pdClassGrades)\n",
    "print(\"Average of the first test:\", pdClassGrades.iloc[0].mean())\n",
    "\n",
    "# Pandas is a bit more complicated to understand, and the syntax has a lot more going on,\n",
    "# but it can really simplify problems when you're dealing with data."
   ]
  },
  {
   "cell_type": "markdown",
   "id": "396e3c14",
   "metadata": {},
   "source": [
    "OK, that was just an aside about Pandas which hopefully helped clarify what it is and why we're using it. Essentially, it's a toolkit that makes data analysis easier. But for now we can stick with our simpler dictionary, because we've already calculated everything we need to plot in it.\n",
    "\n",
    "Let's plot the data now! Don't forget to label your axes."
   ]
  },
  {
   "cell_type": "code",
   "execution_count": 6,
   "id": "df4cf13b",
   "metadata": {
    "scrolled": true
   },
   "outputs": [
    {
     "data": {
      "image/png": "[encoded data removed]",
      "text/plain": [
       "<Figure size 432x288 with 1 Axes>"
      ]
     },
     "metadata": {
      "needs_background": "light"
     },
     "output_type": "display_data"
    }
   ],
   "source": [
    "# TODO: make a plot of your intensity as a funciton of your sensor base position.\n",
    "# Include your uncertainties (look back at Comp2 for an example!)\n",
    "# Don't forget to import any modules you might need, and always label your axes including units.\n",
    "# Make sure to use the uncertainties that make sense on the axis you're plotting them on!\n",
    "\n",
    "from matplotlib import pyplot as plt\n",
    "\n",
    "plt.errorbar(myPdData['base'],myPdData['intensity'], \n",
    "             yerr=myPdData['base_unc'], xerr=myPdData['intensity_unc'],\n",
    "             marker='x', linestyle='none')\n",
    "\n",
    "plt.xlabel('Length [cm]')\n",
    "plt.ylabel('Intensity [%]')\n",
    "plt.grid()\n",
    "plt.show()"
   ]
  },
  {
   "cell_type": "markdown",
   "id": "7b2b05e0",
   "metadata": {},
   "source": [
    "As you saw in your lab, the relationship between your measured values isn't simple -- measured intensity doesn't just scale as $1/r$ because there are some offsets that need to be corrected for. In your lab, perhaps you corrected for these offsets manually, then plotted a simple linear relationship (or maybe not!) Either way, here we're going to just try to fit the full functional form of the curve, and see if we can extract the offsets we measured. \n",
    "\n",
    "As a reminder, this is the equation for intensity as a function of distance: \n",
    "\n",
    "$$ I(r) = \\frac{S}{4\\pi r^2} $$\n",
    "\n",
    "Where $S$ is the power emitted by the source, $r$ is the distance from the source, and $I(r)$ gives the power delivered per square meter at that distance. None of these are variables you measured, so we'll need to re-write this equation in terms of the things you _did_ measure.\n",
    "\n",
    "Instead of the above equation, we can write something like this:\n",
    "\n",
    "$$ I_\\mathrm{meas}(r) = \\frac{I_\\mathrm{ref}}{(r_\\mathrm{base} - r_\\mathrm{off})^2} + I_\\mathrm{background} $$ \n",
    "\n",
    "Where $I_\\mathrm{ref}$ is a value we'll fit for, which incorporates all the constants, including a correction for the size of the sensor (our initial intensity was in power per square meter, which isn't representative of what our sensor receives). We'll also correct our base measurement with an offset factor, which we'll allow the fit to pick a value for as well. The value of this parameter should give you the distance between your base marker and the sensor itself.\n",
    "\n",
    "**There will be some things below for you to fill in -- they're marked with a #TODO as usual.**"
   ]
  },
  {
   "cell_type": "code",
   "execution_count": 7,
   "id": "1c133ea2",
   "metadata": {},
   "outputs": [
    {
     "name": "stdout",
     "output_type": "stream",
     "text": [
      "Fit parameters -- r_off: 13.67240833225208, I_ref: 1053.3605211869346, I_bkg: 0.21028167925690697\n",
      "Uncertainties  -- r_off: 0.00019843506454068202, I_ref: 82.07010513672068, I_bkg: 0.00031079958847028086\n"
     ]
    },
    {
     "data": {
      "image/png": "[encoded data removed]",
      "text/plain": [
       "<Figure size 432x288 with 1 Axes>"
      ]
     },
     "metadata": {
      "needs_background": "light"
     },
     "output_type": "display_data"
    },
    {
     "data": {
      "image/png": "[encoded data removed]",
      "text/plain": [
       "<Figure size 432x288 with 1 Axes>"
      ]
     },
     "metadata": {
      "needs_background": "light"
     },
     "output_type": "display_data"
    }
   ],
   "source": [
    "# The goal of this cell is to fit the data to a function that looks like the one above\n",
    "# You may need to enter some guessed values for your parameters. Fitting a function with no constraints is hard.\n",
    "# IF YOU GET AN ERROR LIKE THIS:\n",
    "# RuntimeError: Optimal parameters not found: Number of calls to function has reached maxfev = 800.\n",
    "# this is a sign that your fitter is struggling to converge. Likely, you haven't set up your equation right\n",
    "# or your initial guesses for your parameters are too far off. Check your function, try fiddling with guesses, \n",
    "# and call me over if you've been fiddling for a while without success.\n",
    "\n",
    "# Once you have a fit, you'll plot the data as well as the fit function and see how they line up\n",
    "\n",
    "# curve_fit is the function we'll use for fitting\n",
    "from scipy.optimize import curve_fit\n",
    "import numpy as np\n",
    "\n",
    "# This defines the shape of the function we'll use. The first variable is the x axis.\n",
    "# All the other variables are free parameters that the function will optimize.\n",
    "def fit_func(r_base, r_off, I_ref, I_bkg):\n",
    "    frac_d = (r_base-r_off)*(r_base-r_off)\n",
    "    return (I_ref/frac_d)+I_bkg\n",
    "\n",
    "\n",
    "# These are initial guesses for the parameters\n",
    "# If your function isn't converging, change them to your best guesses from the lab\n",
    "guess_r_off = 7\n",
    "guess_I_ref = 1000\n",
    "guess_I_bkg = 10\n",
    "\n",
    "# Here we're calling the fitter, handing it the function it should fit, the data, and our guesses\n",
    "# It returns the fit parameters, which we're assigning to individual variables\n",
    "# It also returns the fit covariance, which tells us the uncertainty on each parameter\n",
    "# as well as how the parameter values depend on one another. It's a 2D array, and the \n",
    "# variances of each parameter can be found in order along the diagonal.\n",
    "fit_params, fit_cov = curve_fit(fit_func, myData['base'], myData['intensity'], p0=(guess_r_off, guess_I_ref, guess_I_bkg))\n",
    "r_off, I_ref, I_bkg = fit_params\n",
    "print(\"Fit parameters -- r_off: {}, I_ref: {}, I_bkg: {}\".format(r_off, I_ref, I_bkg))\n",
    "print(\"Uncertainties  -- r_off: {}, I_ref: {}, I_bkg: {}\".format(fit_cov[0][0],fit_cov[1][1],fit_cov[2][2]))\n",
    "\n",
    "# To plot the fit function, we just need to generate some x values\n",
    "# then calculate our corresponding y values using the function we defined\n",
    "# and the parameters we got out of the fit.\n",
    "x_fit = np.linspace(0, 100, 300)\n",
    "y_fit = fit_func(x_fit, r_off, I_ref, I_bkg)\n",
    "\n",
    "plt.errorbar(myData['base'], myData['intensity'], xerr=myData['base_unc'], yerr=myData['intensity_unc'], marker='x', label=\"Measured Intensity\")\n",
    "plt.plot(x_fit, y_fit, label=\"Fit Function\")\n",
    "plt.xlim([myData['base'][0]-10, myData['base'][-1]+10])\n",
    "plt.ylim([0,100])\n",
    "plt.xlabel(\"Base Position [cm]\")\n",
    "plt.ylabel(\"Measured Intensity [%]\")\n",
    "plt.legend()\n",
    "plt.show()\n",
    "\n",
    "# It's hard to tell just how far off you were by looking at the main plot. \n",
    "# We'll also make a plot of the difference between our fit and our measurement\n",
    "# TODO: define y_diff as the difference between the fit function and the data\n",
    "x_for_y_diff = np.linspace(0, len(myData['intensity']), len(myData['intensity']))\n",
    "y_diff = fit_func(x_for_y_diff, r_off, I_ref, I_bkg)-myData['intensity']\n",
    "y_diff_unc = myData[\"intensity_unc\"]\n",
    "plt.errorbar(myData['base'], y_diff, yerr=y_diff_unc, marker='x')\n",
    "plt.axhline(0, color='black')\n",
    "plt.xlabel(\"Base Position [cm]\")\n",
    "plt.ylabel(\"Fit Value - Measured Intensity [%]\")\n",
    "plt.show()\n",
    "\n"
   ]
  },
  {
   "cell_type": "markdown",
   "id": "7c90e3a8",
   "metadata": {},
   "source": [
    "### Add your conclusions here:\n",
    "\n",
    "#### Was it easy to see the inverse square proportionality in your datapoints? Would you change the way you collected data if you had to do this again?\n",
    "\n",
    "The slope of our data aligned to inverse-square proportionality, but our data seemed consistently off from where it should have been. This may have been due to our position right next to an emergency light in the lab, which made our area considerably brighter than other stations and may not have been entirely accounted for in adjustments for background intensity. Whatever its source, the rather consistent +10% difference in intensities is almost certainly systemic. \n",
    "\n",
    "To get a better idea of how closely we could get to inverse square proportionality, if we had the chance to do this lab over again, I would want to do at least a third of our measurements within the 25 cm radius range to get a better idea of the slope of the steep increase we saw going from 25 to <20 cm.\n",
    "\n",
    "#### How does your fit - measured value plot compare to the uncertainty you estimated in lab? Do you think you did you do a good job estimating uncertainty? If not, how would you change it, and why?\n",
    "\n",
    "The fit-measured plot shows so little difference that I thought I had done it wrong. I think our approach to estimating uncertainty was sound, as we waited at least 20 seconds for each measurement and observed the fluctuations in intensity to get an idea of a potential minimum/maximum for the experimental arrangement.\n",
    "\n",
    "#### How do the fit uncertainties for the different parameters compare? Are some much larger than others? Why do you think this is?\n",
    "\n",
    "We had a pretty big \"outlier\" for our final measurement, in which we placed the sensor relatively near the light. Since there weren't many other data points in a similar path, the curve_fit function seems to have taken that particular point with a large grain of salt while eyeing a bottle of tequila. This explains the large difference between the intensity uncertainty and the other two, which are at least within the same magnitude of each other.\n"
   ]
  },
  {
   "cell_type": "markdown",
   "id": "ccf04955",
   "metadata": {},
   "source": [
    "### _For a challenge..._\n",
    "\n",
    "Here is an extension to today's exercises that are beyond the scope of what's expected of you in this class. Give it a try if you'd like, or ignore this completely! There's only one challenge today, but it has a lot of parts.\n",
    "\n",
    "1. Repeat this process for your Law of Malus data, and see if you can get a reasonable fit."
   ]
  },
  {
   "cell_type": "code",
   "execution_count": 9,
   "id": "6bfcf78c",
   "metadata": {},
   "outputs": [
    {
     "name": "stdout",
     "output_type": "stream",
     "text": [
      "Fit parameters -- a_off: -562.7670374516886, I_ref: 125803604.59977299, I_bkg: -302.2192753929355\n",
      "Uncertainties  -- a_off: 202968.77604563782, I_ref: 7.806371779390533e+16, I_bkg: 62637.492422810865\n"
     ]
    },
    {
     "data": {
      "image/png": "[encoded data removed]",
      "text/plain": [
       "<Figure size 432x288 with 1 Axes>"
      ]
     },
     "metadata": {
      "needs_background": "light"
     },
     "output_type": "display_data"
    },
    {
     "data": {
      "image/png": "[encoded data removed]",
      "text/plain": [
       "<Figure size 432x288 with 1 Axes>"
      ]
     },
     "metadata": {
      "needs_background": "light"
     },
     "output_type": "display_data"
    }
   ],
   "source": [
    "# I recorded direct uncertainties, so just gonna make things a little easier on myself with this\n",
    "# fractional-uncertainty-to-regular-uncertainty function.\n",
    "\n",
    "def sig_to_eps(sig, val):\n",
    "        return sig/val    \n",
    "\n",
    "# Data entry starting salary is around $20k.\n",
    "\n",
    "malusData = {\n",
    "        \"angle\": [10, 20, 30, 45, 60, 70, 76, 80, 86],\n",
    "        \"angle_unc\": [0.5, 0.5, 0.5, 1, 0.5, 0.5, 0.3, 0.5, 0.3],\n",
    "        \"angle_frac_unc\": [],\n",
    "        \"intensity\": [78.5, 70.05, 58.9, 39.45, 19.47, 9.11, 4.61, 2.25, 0.49],\n",
    "        \"intensity_unc\": [0.10, 0.05, 0.05, 0.05, 0.01, 0.01, 0.02, 0.01, 0.01],\n",
    "        \"intensity_frac_unc\": []\n",
    "         }\n",
    "\n",
    "# \n",
    "i = 0 \n",
    "\n",
    "while i < len(malusData[\"angle_unc\"]):\n",
    "    malusData[\"angle_frac_unc\"].append(sig_to_eps(malusData[\"angle_unc\"][i],malusData[\"angle\"][i]))\n",
    "    malusData[\"intensity_frac_unc\"].append(100*sig_to_eps(malusData[\"intensity_unc\"][i],malusData[\"intensity\"][i]))\n",
    "    i += 1\n",
    "\n",
    "guess_a_off = 0\n",
    "\n",
    "# Here we're calling the fitter, handing it the function it should fit, the data, and our guesses\n",
    "# It returns the fit parameters, which we're assigning to individual variables\n",
    "# It also returns the fit covariance, which tells us the uncertainty on each parameter\n",
    "# as well as how the parameter values depend on one another. It's a 2D array, and the \n",
    "# variances of each parameter can be found in order along the diagonal.\n",
    "malus_fit_params, malus_fit_cov = curve_fit(fit_func, malusData['angle'], malusData['intensity'], p0=(guess_a_off, guess_I_ref, guess_I_bkg))\n",
    "a_off, I_ref, I_bkg = malus_fit_params\n",
    "print(\"Fit parameters -- a_off: {}, I_ref: {}, I_bkg: {}\".format(a_off, I_ref, I_bkg))\n",
    "print(\"Uncertainties  -- a_off: {}, I_ref: {}, I_bkg: {}\".format(malus_fit_cov[0][0],malus_fit_cov[1][1],malus_fit_cov[2][2]))\n",
    "\n",
    "# To plot the fit function, we just need to generate some x values\n",
    "# then calculate our corresponding y values using the function we defined\n",
    "# and the parameters we got out of the fit.\n",
    "malus_x_fit = np.linspace(0, 100, 300)\n",
    "malus_y_fit = fit_func(malus_x_fit, a_off, I_ref, I_bkg)\n",
    "\n",
    "plt.errorbar(malusData['angle'], malusData['intensity'], xerr=malusData['angle_unc'], yerr=malusData['intensity_unc'], marker='x', label=\"Measured Intensity\")\n",
    "plt.plot(malus_x_fit, malus_y_fit, label=\"Fit Function\")\n",
    "plt.xlim([malusData['angle'][0]-10, malusData['angle'][-1]+10])\n",
    "plt.ylim([0,100])\n",
    "plt.xlabel(\"Measured Angle [degrees]\")\n",
    "plt.ylabel(\"Measured Intensity [%]\")\n",
    "plt.legend()\n",
    "plt.show()\n",
    "\n",
    "# It's hard to tell just how far off you were by looking at the main plot. \n",
    "# We'll also make a plot of the difference between our fit and our measurement\n",
    "# TODO: define y_diff as the difference between the fit function and the data\n",
    "malus_x_for_y_diff = np.linspace(0, len(malusData['intensity']), len(malusData['intensity']))\n",
    "malus_y_diff = fit_func(malus_x_for_y_diff, a_off, I_ref, I_bkg)-malusData['intensity']\n",
    "malus_y_diff_unc = malusData[\"intensity_unc\"]\n",
    "plt.errorbar(malusData['angle'], malus_y_diff, yerr=malus_y_diff_unc, marker='x')\n",
    "plt.axhline(0, color='black')\n",
    "plt.xlabel(\"Measured Angle [degrees]\")\n",
    "plt.ylabel(\"Fit Value - Measured Intensity [%]\")\n",
    "plt.show()\n",
    "\n"
   ]
  }
 ],
 "metadata": {
  "kernelspec": {
   "display_name": "Python 3",
   "language": "python",
   "name": "python3"
  },
  "language_info": {
   "codemirror_mode": {
    "name": "ipython",
    "version": 3
   },
   "file_extension": ".py",
   "mimetype": "text/x-python",
   "name": "python",
   "nbconvert_exporter": "python",
   "pygments_lexer": "ipython3",
   "version": "3.8.8"
  }
 },
 "nbformat": 4,
 "nbformat_minor": 5
}

{
 "cells": [
  {
   "cell_type": "markdown",
   "id": "97bbb4c9",
   "metadata": {},
   "source": [
    "# Computational Lab 1: Looking Closer at Uncertainty\n",
    "\n",
    "Today you'll be going through making some of the same plots I showed in Monday's class when examining the data you took in lab. You'll explore working with datasets and calculating statistical parameters from them. You'll also explore how to compare measurements and evaluate statistical compatibility. \n",
    "\n",
    "Unlike our experimental labs, the computational labs will be done by each of you individually. You're always welcome to look back at the example Jupyter notebook I showed in class if you're looking for examples of syntax, or to google what you're looking for. If you get stuck, don't hesitate to reach out to other classmates or to your TAs. \n",
    "\n",
    "Let's start by opening up the data from our lab. \n",
    "\n",
    "First you need to get the data. You should:\n",
    "* Open up the spreadsheet that you entered data in for last week's lab\n",
    "* Navigate to the second tab, called \"Cleaned Sheet\" (In order to save you some pain in your data analysis, I got rid of any entries without uncertainties, and ones with text in the uncertainty box.)\n",
    "* Download this sheet as a .csv file\n",
    "* Upload the sheet into your home directory on ISAAC (you do this with the \"Upload\" button on the Jupyter main page)\n",
    "\n",
    "Now that you've put it in your home directory on ISAAC, we can open it up here.\n",
    "\n",
    "Throughout this computational lab, you'll see portions that I've done for you, and portions I've left up to you. All the parts you should do will be marked with a `TODO` comment. You'll also see questions for you to answer in text boxes. "
   ]
  },
  {
   "cell_type": "code",
   "execution_count": 1,
   "id": "49bd469d",
   "metadata": {},
   "outputs": [
    {
     "name": "stdout",
     "output_type": "stream",
     "text": [
      "<class 'pandas.core.frame.DataFrame'>\n"
     ]
    }
   ],
   "source": [
    "# To read in our spreadsheet, we'll use Pandas -- it has the simplest interface to read in a CSV file\n",
    "# This line imports the whole pandas module, and assigns it the name \"pd\". Whenever you want to use any of\n",
    "# its functions, you just type pd.[whatever the function is called].\n",
    "import pandas as pd\n",
    "\n",
    "#TODO: Create a variable named filename and store the name of your csv file in it\n",
    "filename = \"Nielsen Physics Building Height - Cleaned Sheet.csv\"\n",
    "\n",
    "# Now we can use pandas to open our file. The syntax to open a csv file with pandas is below.\n",
    "# If you've defined your filename variable correctly, you shouldn't have to do anything else here. \n",
    "with open(filename) as f:\n",
    "    data = pd.read_csv(f)\n",
    "    \n",
    "# To check that everything loaded correctly, we can look at what you stored in the data variable\n",
    "# You should see something that looks a lot like the spreadsheet you downloaded\n",
    "# print(data)\n",
    "\n",
    "#TODO: Try printing the type of the data variable you created. This is a new data type for us, created by\n",
    "# the pandas module.\n",
    "print(type(data))\n"
   ]
  },
  {
   "cell_type": "code",
   "execution_count": 2,
   "id": "7e619d24",
   "metadata": {},
   "outputs": [
    {
     "name": "stdout",
     "output_type": "stream",
     "text": [
      "0     26.5176\n",
      "1     25.6120\n",
      "2     25.4000\n",
      "3     22.0000\n",
      "4     28.0100\n",
      "5     28.6800\n",
      "6     22.4270\n",
      "7     28.6340\n",
      "8     32.7000\n",
      "9     27.7000\n",
      "10    27.6300\n",
      "11    26.5400\n",
      "12    25.8650\n",
      "13    27.7830\n",
      "14    25.5900\n",
      "15    29.3500\n",
      "16    25.5900\n",
      "17    29.3500\n",
      "18    22.0400\n",
      "19    23.2200\n",
      "20    27.8400\n",
      "21    34.4000\n",
      "22    41.0300\n",
      "23    27.0500\n",
      "24    26.2200\n",
      "25    28.5200\n",
      "26    27.5400\n",
      "27    28.0800\n",
      "28    37.7400\n",
      "Name: Height [m], dtype: float64\n",
      "0      0.160800\n",
      "1      0.609800\n",
      "2      0.050000\n",
      "3      6.000000\n",
      "4      0.524000\n",
      "5      0.010000\n",
      "6      1.140000\n",
      "7      1.180000\n",
      "8      0.300000\n",
      "9      0.012700\n",
      "10     1.960000\n",
      "11     0.350000\n",
      "12     0.078260\n",
      "13     0.910000\n",
      "14     2.658700\n",
      "15     2.659000\n",
      "16     2.658721\n",
      "17     2.658721\n",
      "18     5.220000\n",
      "19     0.401000\n",
      "20     0.550000\n",
      "21     4.790000\n",
      "22    13.830000\n",
      "23     0.010000\n",
      "24     0.030000\n",
      "25     0.390000\n",
      "26     0.390000\n",
      "27     0.060000\n",
      "28     9.485000\n",
      "Name: Uncertainty [m], dtype: float64\n"
     ]
    }
   ],
   "source": [
    "# In this lab, all we're really going to need is the height and uncertainty columns\n",
    "# Because our data is stored in a pandas dataframe, grabbing the column we want is pretty easy.\n",
    "# Pandas automatically reads in the headers of the columns, and lets us access the data using them.\n",
    "\n",
    "# This is the syntax for getting the data in one column based on its header name from a pandas dataframe\n",
    "heights = data[\"Height [m]\"]\n",
    "\n",
    "# TODO: Get the data from the uncertainty column, and store it in a variable called \"uncertainties\"\n",
    "uncertainties = data[\"Uncertainty [m]\"]\n",
    "\n",
    "# TODO: Print out both of your new columns of data to check that they look as you expect\n",
    "print(heights)\n",
    "print(uncertainties)"
   ]
  },
  {
   "cell_type": "markdown",
   "id": "b2b89043",
   "metadata": {},
   "source": [
    "**Question: What datatype are these new variables?**\n",
    "\n",
    "Answer:\n"
   ]
  },
  {
   "cell_type": "code",
   "execution_count": 3,
   "id": "ea2e226d",
   "metadata": {},
   "outputs": [
    {
     "name": "stdout",
     "output_type": "stream",
     "text": [
      "<class 'pandas.core.series.Series'> <class 'pandas.core.series.Series'>\n"
     ]
    }
   ],
   "source": [
    "print(type(heights), type(uncertainties))"
   ]
  },
  {
   "cell_type": "code",
   "execution_count": 4,
   "id": "30205f21",
   "metadata": {},
   "outputs": [
    {
     "name": "stdout",
     "output_type": "stream",
     "text": [
      "[26.5176, 25.612, 25.4, 22.0, 28.01, 28.68, 22.427, 28.634, 32.7, 27.7, 27.63, 26.54, 25.865, 27.783, 25.59, 29.35, 25.59, 29.35, 22.04, 23.22, 27.84, 34.4, 41.03, 27.05, 26.22, 28.52, 27.54, 28.08, 37.74]\n",
      "range(0, 29)\n",
      "[0, 1, 2, 3, 4, 5, 6, 7, 8, 9, 10, 11, 12, 13, 14, 15, 16, 17, 18, 19, 20, 21, 22, 23, 24, 25, 26, 27, 28]\n"
     ]
    },
    {
     "data": {
      "image/png": "[encoded data removed]",
      "text/plain": [
       "<Figure size 432x288 with 1 Axes>"
      ]
     },
     "metadata": {
      "needs_background": "light"
     },
     "output_type": "display_data"
    }
   ],
   "source": [
    "# You now have variables that contain all of the central values measured for the height, and all\n",
    "# of the uncertainties measured for the height, in the same order. \n",
    "# They're not stored in simple python lists, but they're in a datatype that can easily be converted\n",
    "# into a python list. You could even cast them to a list if you wanted to:\n",
    "heights_list = list(heights)\n",
    "print(heights_list)\n",
    "\n",
    "# We don't need to do this though; instead we can just hand them to functions that expect lists\n",
    "# and the functions can do the conversion for us.\n",
    "\n",
    "# In particular, we can plot them using matplotlib. First we need to import matplotlib's plotting module.\n",
    "# Just as we did with pandas, we'll give it a short name (plt) so we don't have to type so much.\n",
    "from matplotlib import pyplot as plt\n",
    "\n",
    "# To make a plot, we need a list of x values, a list of y values, and if we want uncertainties, a list\n",
    "# of uncertainties on the y values, all in the same order. \n",
    "# If we want to just plot all of the measurements made by the class next to one another, the x axis has\n",
    "# to be something like the attempt number -- so we need to make a list that just counts the measurements.\n",
    "# We can do that with this line. It gets the length of our heights dataset, then uses python's range \n",
    "# function to make a list of integers that go from 0 to that length - 1. Like our pandas series, this \n",
    "# creates an object that isn't a list exactly, but can easily be converted to one and an be treated like one.\n",
    "indices = range(len(heights))\n",
    "print(indices)\n",
    "print(list(indices))\n",
    "\n",
    "# Finally, now that we have the three lists of values we need, we can use matplotlib to plot them\n",
    "# We'll use the function errorbar, which allows us to add errorbars to the plot. If you google \n",
    "# \"matplotlib errorbar\" you'll find the function definition, and you can see all the options we can pass it. \n",
    "# Anything with an = sign next to it is not required -- it has a default value. Anything with a * in the name\n",
    "# is also optional. Anything else has to have a value set when calling the function in order for it to work. \n",
    "# We call each piece of information we pass to a function an \"argument\".\n",
    "\n",
    "plt.errorbar(indices, heights, uncertainties, marker=\"o\", linestyle=\"none\")\n",
    "\n",
    "# We always want to label our axes!! (And I like the gridlines.)\n",
    "plt.xlabel(\"Attempt Number\")\n",
    "plt.ylabel(\"Height [m]\")\n",
    "plt.grid()"
   ]
  },
  {
   "cell_type": "markdown",
   "id": "f1eac799",
   "metadata": {},
   "source": [
    "**Question: If I made a list using the function** `range(10)`**, what values would be stored in that list? (Feel free to test it out!)**\n",
    "\n",
    "\n",
    "**Question: How many required arguments does the errorbar function have? How many optional arguments does it have?**\n",
    "\n",
    "**Question: Try turning off the** `linestyle=\"none\"` **option by deleting that argument. What happens?**\n"
   ]
  },
  {
   "cell_type": "code",
   "execution_count": 5,
   "id": "611c4390",
   "metadata": {},
   "outputs": [
    {
     "name": "stdout",
     "output_type": "stream",
     "text": [
      "Answer: [0, 1, 2, 3, 4, 5, 6, 7, 8, 9]\n",
      "Answer: 3 required arguments, 2 optional arguments shown in example, but many more options exist!\n",
      "Answer: Contextually useless lines!\n"
     ]
    }
   ],
   "source": [
    "new_list = list(range(10))\n",
    "print('Answer:', new_list)\n",
    "print('Answer:','3 required arguments, 2 optional arguments shown in example, but many more options exist!')\n",
    "print('Answer:','Contextually useless lines!')"
   ]
  },
  {
   "cell_type": "code",
   "execution_count": 6,
   "id": "c106d4cd",
   "metadata": {},
   "outputs": [
    {
     "name": "stdout",
     "output_type": "stream",
     "text": [
      "The mean is: 27.8985724137931\n",
      "The variance is: 17.684389773497546\n",
      "The standard deviation is: 4.205281176508599\n"
     ]
    }
   ],
   "source": [
    "# Let's finally look at some statistics, starting by just looking at the central values you measured.\n",
    "# We can use built-in functions from Pandas to get these very easily\n",
    "height_mean = heights.mean()\n",
    "height_var = heights.var()\n",
    "height_std = heights.std()\n",
    "\n",
    "print(\"The mean is:\", height_mean)\n",
    "print(\"The variance is:\", height_var)\n",
    "print(\"The standard deviation is:\", height_std)"
   ]
  },
  {
   "cell_type": "code",
   "execution_count": 7,
   "id": "7f93f918",
   "metadata": {},
   "outputs": [
    {
     "data": {
      "image/png": "[encoded data removed]",
      "text/plain": [
       "<Figure size 432x288 with 1 Axes>"
      ]
     },
     "metadata": {
      "needs_background": "light"
     },
     "output_type": "display_data"
    }
   ],
   "source": [
    "# Let's recreate the plot I made in class. I want to draw a light green rectangle that goes from\n",
    "# mean-stddev to mean+stddev on the y axis, and spans the whole x axis. Matplotlib can do this with \n",
    "# the fill_between function. \n",
    "\n",
    "# TODO: Define two variables, low_y and high_y with the minimum and maximum y values for the box.\n",
    "low_y = (height_mean-height_std)\n",
    "high_y = (height_mean+height_std)\n",
    "\n",
    "\n",
    "# I'll define the x range we want: It looks nicest if it goes from -1 to the number of attempts we have\n",
    "# You can try fiddling with this to see what I mean. \n",
    "x_range = [-1, len(heights)]\n",
    "\n",
    "# Now we can use the fill_between function to draw our box. The syntax is a bit funny: we're handing it lists\n",
    "# of values to fill between, the same way we do for the plots. The alpha parameter sets how transparent the \n",
    "# color is. \n",
    "plt.fill_between(x_range, [low_y, low_y], [high_y, high_y], color=\"green\", alpha=0.3)\n",
    "# I can use a simple plot function to draw the line I want for the mean. It only has two points: \n",
    "# (-1, height_mean) and (len(heights), height_mean) and it draws a line between them. \n",
    "plt.plot(x_range, [height_mean, height_mean], color=\"green\")\n",
    "\n",
    "# Now we can draw our datapoints on the same plot, just as we did before. \n",
    "# TODO: Draw the datapoints using the errorbar function as we did above, and label your axes. \n",
    "# You can add a grid if you like.\n",
    "\n",
    "plt.errorbar(indices, heights, uncertainties, marker=\"o\", linestyle=\"none\")\n",
    "\n",
    "plt.xlabel(\"Attempt Number\")\n",
    "plt.ylabel(\"Height [m]\")\n",
    "plt.grid()\n"
   ]
  },
  {
   "cell_type": "markdown",
   "id": "ffdb8a76",
   "metadata": {},
   "source": [
    "**Question: How many datapoints are more than 1 sigma (according to that datapoint's measured uncertainty) away from the green band? You may find it helpful to zoom in on your plot -- you can do this by executing the function** `plt.ylim(22,25)` **for example, to zoom in on the y range from 22 to 25.**"
   ]
  },
  {
   "cell_type": "code",
   "execution_count": 8,
   "id": "e6f0d6e4",
   "metadata": {},
   "outputs": [
    {
     "name": "stdout",
     "output_type": "stream",
     "text": [
      "Answer: 3. Attempts number 6, 8, and 19. (See New Plot.)\n"
     ]
    },
    {
     "data": {
      "image/png": "[encoded data removed]",
      "text/plain": [
       "<Figure size 432x288 with 1 Axes>"
      ]
     },
     "metadata": {
      "needs_background": "light"
     },
     "output_type": "display_data"
    }
   ],
   "source": [
    "bad_data = [6,8,19]\n",
    "plt.fill_between(x_range, [low_y, low_y], [high_y, high_y], color=\"green\", alpha=0.3)\n",
    "\n",
    "plt.plot(x_range, [height_mean, height_mean], color=\"green\")\n",
    "\n",
    "plt.errorbar(indices, heights, uncertainties, marker=\".\", linestyle=\"none\", color=\"xkcd:blue\")\n",
    "plt.plot(bad_data, heights[bad_data], marker=\"8\", linestyle=\"none\", color=\"xkcd:tomato\")\n",
    "\n",
    "plt.title(\"New Plot\")\n",
    "plt.xlabel(\"Attempt Number\")\n",
    "plt.ylabel(\"Height [m]\")\n",
    "plt.grid()\n",
    "\n",
    "plt.ylim(22,33)\n",
    "\n",
    "print('Answer: 3. Attempts number 6, 8, and 19. (See New Plot.)')"
   ]
  },
  {
   "cell_type": "markdown",
   "id": "8ad2f25a",
   "metadata": {},
   "source": [
    "Now that we can plot our data, let's try to do a little bit of analysis. \n",
    "\n",
    "Choose one of your two measured values from the lab. Your final task will be to answer the following statistical question: How compatible is your measurment with the mean value measured by the class? \n",
    "\n",
    "Or, put another way, given that the true value is the mean value measured by the class, how likely would it be for you to observe your value, given your measured uncertainty?"
   ]
  },
  {
   "cell_type": "code",
   "execution_count": 9,
   "id": "d3627d5b",
   "metadata": {},
   "outputs": [
    {
     "name": "stdout",
     "output_type": "stream",
     "text": [
      "27.8985724137931\n",
      "Our attempt at measuring stair height gave us a result 0.768132625994694 sigma away from the class mean.\n",
      "Our measurement using fishing line was 3.9714482758620306 sigma away from the class mean.\n"
     ]
    }
   ],
   "source": [
    "# TODO: Add the values of your measurement here.\n",
    "stairs = 26.9\n",
    "stairs_sigma = 1.3\n",
    "dangle = 27.7\n",
    "dangle_sigma = 0.05\n",
    "\n",
    "# You should still have the mean value of the class's heights stored in a variable from above:\n",
    "print(height_mean)\n",
    "\n",
    "# TODO: Write code below that calculates and prints how many sigma away (based on your uncertainty measurement) \n",
    "# your measured value was from the class mean.\n",
    "stairs_diff = (abs(height_mean-stairs))/stairs_sigma\n",
    "dangle_diff = (abs(height_mean-dangle))/dangle_sigma\n",
    "\n",
    "print('Our attempt at measuring stair height gave us a result', stairs_diff, 'sigma away from the class mean.')\n",
    "print('Our measurement using fishing line was', dangle_diff, 'sigma away from the class mean.')"
   ]
  },
  {
   "cell_type": "markdown",
   "id": "ff540dfd",
   "metadata": {},
   "source": [
    "**Question: Using the Gaussian distribution graphic we looked at in class, estimate the probability for your measured value, given the assumption that the class's mean value is the true answer, based on your estimated uncertainty. (In other words, figure out how many sigma you are from the mean value, and use the Gaussian distribution to evaluate what fraction of measurements would be that far away from it.) This can be a rough estimate, to the nearest sigma.**"
   ]
  },
  {
   "cell_type": "markdown",
   "id": "25b3ac06",
   "metadata": {},
   "source": [
    "Our stair-measuring method resulted in less than a full $\\sigma$ from the mean, putting us near the peak of the Gaussian distribution, along with a probable approximate 20% of the total measurements. "
   ]
  },
  {
   "cell_type": "markdown",
   "id": "f207c882",
   "metadata": {},
   "source": [
    "Congratulations, you made it to the end of your first computational lab! I recommend double checking to make sure you completed all `TODO` items and answered all the questions. When you're happy with it, go to `File` then `Download as` and select the HTML option. You can upload this file to the Canvas assignment for this lab. \n",
    "\n",
    "**After you upload it, make sure to preview it to make sure everything is there!** In particular, make sure all the output plots and text are in the final file you output. \n",
    "\n",
    "_**For a Challenge**_:\n",
    "\n",
    "Every lab, I'll also offer some challenge exercises for extra credit. These challenges stretch a bit further than our core curriculum, but they can help with your understanding, push your coding skills, and earn you extra points. You can do some or all of them. For this lab, here are your challenges:\n",
    "1. Write a function that takes in an x value, a $\\mu$ value, and a $\\sigma$ value as arguments, and returns the output of a Gaussian for those parameters. You can find the definition of a Gaussian in the first class slides. (If you've never written a function before, check out [this](https://www.w3schools.com/python/python_functions.asp) quick explainer.)\n",
    "2. Using this function, plot your Gaussian. This will look extremely similar to the Sine wave example at the bottom of the Jupyter notebook from Monday's class.\n",
    "3. Perform a numerical integral of your function to get an exact value for the previous question. The probability can be defined as the integral of a gaussian function with $\\mu$ as the class mean and $\\sigma$ as your measured uncertainty over all values greater than or equal to your value. I suggest using numpy's trapz function for this. (This one is significantly harder than the others.)"
   ]
  },
  {
   "cell_type": "markdown",
   "id": "f053dcdc",
   "metadata": {},
   "source": [
    "# Challenge Problem #1"
   ]
  },
  {
   "cell_type": "code",
   "execution_count": 13,
   "id": "8aed7ee9",
   "metadata": {},
   "outputs": [],
   "source": [
    "import numpy as np\n",
    "\n",
    "def gaussian(x, m, s):\n",
    "    term1 = 1 / (s * np.sqrt(2 * np.pi))\n",
    "    term2 = np.e**(-(1/2)*(((x - m)/s)**2))\n",
    "    return term1 * term2"
   ]
  }
 ],
 "metadata": {
  "kernelspec": {
   "display_name": "Python 3",
   "language": "python",
   "name": "python3"
  },
  "language_info": {
   "codemirror_mode": {
    "name": "ipython",
    "version": 3
   },
   "file_extension": ".py",
   "mimetype": "text/x-python",
   "name": "python",
   "nbconvert_exporter": "python",
   "pygments_lexer": "ipython3",
   "version": "3.8.8"
  }
 },
 "nbformat": 4,
 "nbformat_minor": 5
}

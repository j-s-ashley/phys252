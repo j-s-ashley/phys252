{
 "cells": [
  {
   "cell_type": "code",
   "execution_count": 2,
   "metadata": {
    "id": "Kmk-OW42dab-"
   },
   "outputs": [
    {
     "name": "stdout",
     "output_type": "stream",
     "text": [
      "Defaulting to user installation because normal site-packages is not writeable\n",
      "Requirement already satisfied: lmfit in c:\\users\\jorda\\appdata\\local\\packages\\pythonsoftwarefoundation.python.3.12_qbz5n2kfra8p0\\localcache\\local-packages\\python312\\site-packages (1.2.2)\n",
      "Requirement already satisfied: asteval>=0.9.28 in c:\\users\\jorda\\appdata\\local\\packages\\pythonsoftwarefoundation.python.3.12_qbz5n2kfra8p0\\localcache\\local-packages\\python312\\site-packages (from lmfit) (0.9.31)\n",
      "Requirement already satisfied: numpy>=1.19 in c:\\users\\jorda\\appdata\\local\\packages\\pythonsoftwarefoundation.python.3.12_qbz5n2kfra8p0\\localcache\\local-packages\\python312\\site-packages (from lmfit) (1.26.3)\n",
      "Requirement already satisfied: scipy>=1.6 in c:\\users\\jorda\\appdata\\local\\packages\\pythonsoftwarefoundation.python.3.12_qbz5n2kfra8p0\\localcache\\local-packages\\python312\\site-packages (from lmfit) (1.12.0)\n",
      "Requirement already satisfied: uncertainties>=3.1.4 in c:\\users\\jorda\\appdata\\local\\packages\\pythonsoftwarefoundation.python.3.12_qbz5n2kfra8p0\\localcache\\local-packages\\python312\\site-packages (from lmfit) (3.1.7)\n",
      "Requirement already satisfied: future in c:\\users\\jorda\\appdata\\local\\packages\\pythonsoftwarefoundation.python.3.12_qbz5n2kfra8p0\\localcache\\local-packages\\python312\\site-packages (from uncertainties>=3.1.4->lmfit) (0.18.3)\n",
      "Note: you may need to restart the kernel to use updated packages.\n"
     ]
    }
   ],
   "source": [
    "pip install lmfit"
   ]
  },
  {
   "cell_type": "code",
   "execution_count": 3,
   "metadata": {
    "id": "fxcEwMyLkMQX"
   },
   "outputs": [],
   "source": [
    "import numpy as np\n",
    "import matplotlib.pyplot as plt\n",
    "from lmfit import Model, Parameters, report_fit"
   ]
  },
  {
   "cell_type": "code",
   "execution_count": 4,
   "metadata": {
    "id": "Uut_z-FEkQmb"
   },
   "outputs": [],
   "source": [
    "# constants\n",
    "g = 9.8\n",
    "# variables\n",
    "mass = np.array([0.0499,0.0998,0.1497,0.1996,0.2495,0.2994,0.3493])\n",
    "sigma_mass = np.array([0.00015,0.00015,0.00015,0.00015,0.00015,0.00015,0.00015])\n",
    "displacement = np.array([0.0345,0.092,0.152,0.2145,0.272,0.337,0.397])\n",
    "sigma_displacecment = np.array([0.005,0.005,0.005,0.005,0.005,0.005,0.005])"
   ]
  },
  {
   "cell_type": "code",
   "execution_count": 5,
   "metadata": {
    "id": "b_WtRkjgkZea"
   },
   "outputs": [],
   "source": [
    "# calculations\n",
    "force = mass * g\n",
    "sigma_force = sigma_mass * g\n",
    "k = mass * g / displacement\n",
    "relative_uncertainty = np.sqrt( (sigma_mass/mass)**2 + (sigma_displacecment/displacement)**2 )\n",
    "sigma_k = k * relative_uncertainty"
   ]
  },
  {
   "cell_type": "code",
   "execution_count": 6,
   "metadata": {
    "id": "Mdjjvp12kbK2"
   },
   "outputs": [
    {
     "name": "stdout",
     "output_type": "stream",
     "text": [
      "{'gradient': 8.064787425617814, 'b': 0.22906337842841393}\n",
      "[[Model]]\n",
      "    Model(linear)\n",
      "[[Fit Statistics]]\n",
      "    # fitting method   = leastsq\n",
      "    # function evals   = 7\n",
      "    # data points      = 7\n",
      "    # variables        = 2\n",
      "    chi-square         = 584.620935\n",
      "    reduced chi-square = 116.924187\n",
      "    Akaike info crit   = 34.9753746\n",
      "    Bayesian info crit = 34.8671949\n",
      "    R-squared          = -86.3098193\n",
      "[[Variables]]\n",
      "    gradient:  8.06478743 +/- 0.04954477 (0.61%) (init = 8)\n",
      "    b:         0.22906338 +/- 0.01219259 (5.32%) (init = 0.0001)\n",
      "[[Correlations]] (unreported correlations are < 0.100)\n",
      "    C(gradient, b) = -0.8702\n"
     ]
    }
   ],
   "source": [
    "# fitting to find k\n",
    "def linear(x,gradient,b):\n",
    "    return gradient*x + b\n",
    "\n",
    "model = Model(linear,independent_vars=['x'])\n",
    "params = Parameters()\n",
    "params.add('gradient',value=8,vary=True)\n",
    "params.add('b',value=0.0001,vary=True)\n",
    "\n",
    "\n",
    "fit = model.fit(force, x= displacement, params=params, weights = 1/sigma_force)\n",
    "slope = np.round(fit.values['gradient'],3)\n",
    "intercept = np.round(fit.values['b'],3)\n",
    "print(fit.values)\n",
    "print(fit.fit_report())"
   ]
  },
  {
   "cell_type": "code",
   "execution_count": 7,
   "metadata": {
    "id": "pUZmXeeruWro"
   },
   "outputs": [
    {
     "data": {
      "text/plain": [
       "<matplotlib.legend.Legend at 0x1c8712388f0>"
      ]
     },
     "execution_count": 7,
     "metadata": {},
     "output_type": "execute_result"
    },
    {
     "data": {
      "image/png": "[encoded data removed]",
      "text/plain": [
       "<Figure size 640x480 with 1 Axes>"
      ]
     },
     "metadata": {},
     "output_type": "display_data"
    }
   ],
   "source": [
    "# plotting\n",
    "plt.errorbar(displacement, force, yerr=sigma_force, fmt='ko', capsize=4, label='Data')\n",
    "plt.plot(displacement,linear(displacement,slope,intercept),'--r',label='Fit y='+str(slope)+'*x + '+str(intercept))\n",
    "plt.xlabel('Displacement')\n",
    "plt.ylabel('Force')\n",
    "plt.legend()"
   ]
  },
  {
   "cell_type": "code",
   "execution_count": null,
   "metadata": {
    "id": "NttE1HBbuajL"
   },
   "outputs": [],
   "source": []
  }
 ],
 "metadata": {
  "colab": {
   "provenance": []
  },
  "kernelspec": {
   "display_name": "Python 3 (ipykernel)",
   "language": "python",
   "name": "python3"
  },
  "language_info": {
   "codemirror_mode": {
    "name": "ipython",
    "version": 3
   },
   "file_extension": ".py",
   "mimetype": "text/x-python",
   "name": "python",
   "nbconvert_exporter": "python",
   "pygments_lexer": "ipython3",
   "version": "3.12.1"
  }
 },
 "nbformat": 4,
 "nbformat_minor": 4
}

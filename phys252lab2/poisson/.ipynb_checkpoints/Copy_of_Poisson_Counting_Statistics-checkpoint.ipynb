{
 "cells": [
  {
   "cell_type": "code",
   "execution_count": 5,
   "metadata": {
    "colab": {
     "background_save": true,
     "base_uri": "https://localhost:8080/",
     "height": 39
    },
    "id": "Uut_z-FEkQmb",
    "outputId": "74476636-a2bc-48fd-bad9-0ccc8baf6e06"
   },
   "outputs": [
    {
     "name": "stderr",
     "output_type": "stream",
     "text": [
      "C:\\Users\\jorda\\AppData\\Local\\Temp\\ipykernel_25020\\4231051945.py:2: DeprecationWarning: `scipy.interpolate.polyint.factorial` is deprecated along with the `scipy.interpolate.polyint` namespace. `scipy.interpolate.polyint.factorial` will be removed in SciPy 1.14.0, and the `scipy.interpolate.polyint` namespace will be removed in SciPy 2.0.0.\n",
      "  from scipy.interpolate.polyint import factorial\n",
      "'rm' is not recognized as an internal or external command,\n",
      "operable program or batch file.\n"
     ]
    },
    {
     "name": "stdout",
     "output_type": "stream",
     "text": [
      "sum of the counts= 6885.0\n",
      "counts average n= 6.95\n",
      "less counts average n= 6.7\n"
     ]
    },
    {
     "data": {
      "image/png": "[encoded data removed]",
      "text/plain": [
       "<Figure size 640x480 with 2 Axes>"
      ]
     },
     "metadata": {},
     "output_type": "display_data"
    }
   ],
   "source": [
    "import math\n",
    "from scipy.interpolate.polyint import factorial\n",
    "import matplotlib.pyplot as plt\n",
    "import numpy as np\n",
    "#from google.colab import files # import your .tsv file\n",
    "\n",
    "# function to get data out of tsv file\n",
    "def parse_string(string):\n",
    "    length = len(string)\n",
    "    for j in range(2):\n",
    "        loc = string.find('\t')\n",
    "        string = string[loc + 1:length]\n",
    "    loc = string.find('\t')\n",
    "    string = string[0:loc]\n",
    "    return int(string)\n",
    "\n",
    "\n",
    "# writes the counts in the tsv file to an array\n",
    "lines = []\n",
    "# open the file\n",
    "f = open(\"counts.tsv\", \"r\")\n",
    "for x in f:\n",
    "    lines.append(x)\n",
    "# closes the file\n",
    "f.close()\n",
    "!rm counts.tsv #delete file from google colab\n",
    "\n",
    "# initialize the counts and less_counts lists\n",
    "counts = []\n",
    "less_counts = []\n",
    "\n",
    "# add data from each line of counts.txt to the counts list\n",
    "for i in range(11, len(lines)):\n",
    "    counts.append(parse_string(lines[i]))\n",
    "# print(counts)\n",
    "\n",
    "# save the first 100 elements of counts as the list less_counts\n",
    "less_counts_len = 100\n",
    "less_counts.extend(counts[0:less_counts_len])\n",
    "\n",
    "\n",
    "# find the sum of the counts\n",
    "countsAverage = math.fsum(counts)\n",
    "less_countsAverage = math.fsum(less_counts)\n",
    "print(\"sum of the counts=\", countsAverage)\n",
    "\n",
    "# find the average of the counts\n",
    "countsAverage = countsAverage / len(counts)\n",
    "less_countsAverage = less_countsAverage / len(less_counts)\n",
    "print(\"counts average n=\", round(countsAverage, 2))\n",
    "print(\"less counts average n=\", round(less_countsAverage, 2))\n",
    "\n",
    "# use the average n to find the Poisson distribution\n",
    "countsPoisson = []\n",
    "less_countsPoisson = []\n",
    "\n",
    "\n",
    "# determine maximum number of counts in\n",
    "nbins = 0\n",
    "for i in range(0, len(counts)):\n",
    "    if counts[i] > nbins:\n",
    "        nbins = counts[i]\n",
    "\n",
    "#calculate the poisson frequency distributions\n",
    "for i in range(0, nbins):\n",
    "    countsPoisson.append(countsAverage ** i * math.e ** (-countsAverage) / factorial(i) * len(counts))\n",
    "    less_countsPoisson.append(less_countsAverage ** i * math.e ** (-less_countsAverage) / factorial(i) * less_counts_len)\n",
    "\n",
    "# plot Poisson distribution with average n\n",
    "xValues = np.linspace(0, nbins, nbins)\n",
    "\n",
    "fig, (plt1, plt2) = plt.subplots(1, 2)\n",
    "plt1.scatter(xValues, countsPoisson, color=\"orange\", zorder = 2)\n",
    "plt2.scatter(xValues, less_countsPoisson, color = \"orange\", zorder = 2)\n",
    "\n",
    "# plot the counts array as a histogram (counts the number of times there are 5 counts in the 1000 1 s intervals of data for example)\n",
    "plt1.hist(counts, nbins, zorder = 1)\n",
    "plt2.hist(less_counts, nbins, zorder = 1)\n",
    "plt.show()\n",
    "\n",
    "\n"
   ]
  },
  {
   "cell_type": "code",
   "execution_count": null,
   "metadata": {
    "id": "xAIPycHQfKsG"
   },
   "outputs": [],
   "source": []
  }
 ],
 "metadata": {
  "colab": {
   "provenance": []
  },
  "kernelspec": {
   "display_name": "Python 3 (ipykernel)",
   "language": "python",
   "name": "python3"
  },
  "language_info": {
   "codemirror_mode": {
    "name": "ipython",
    "version": 3
   },
   "file_extension": ".py",
   "mimetype": "text/x-python",
   "name": "python",
   "nbconvert_exporter": "python",
   "pygments_lexer": "ipython3",
   "version": "3.12.1"
  }
 },
 "nbformat": 4,
 "nbformat_minor": 4
}

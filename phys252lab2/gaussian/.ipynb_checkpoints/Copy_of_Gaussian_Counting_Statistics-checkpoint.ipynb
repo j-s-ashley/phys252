{
 "cells": [
  {
   "cell_type": "code",
   "execution_count": 4,
   "metadata": {
    "colab": {
     "base_uri": "https://localhost:8080/",
     "height": 408
    },
    "id": "Uut_z-FEkQmb",
    "outputId": "70d5281f-9cab-4704-905a-d9ecc0c6cf74"
   },
   "outputs": [
    {
     "name": "stderr",
     "output_type": "stream",
     "text": [
      "C:\\Users\\jorda\\AppData\\Local\\Temp\\ipykernel_22700\\3373467456.py:3: DeprecationWarning: `scipy.interpolate.polyint.factorial` is deprecated along with the `scipy.interpolate.polyint` namespace. `scipy.interpolate.polyint.factorial` will be removed in SciPy 1.14.0, and the `scipy.interpolate.polyint` namespace will be removed in SciPy 2.0.0.\n",
      "  from scipy.interpolate.polyint import factorial\n"
     ]
    },
    {
     "ename": "FileNotFoundError",
     "evalue": "[Errno 2] No such file or directory: 'counts.tsv'",
     "output_type": "error",
     "traceback": [
      "\u001b[1;31m---------------------------------------------------------------------------\u001b[0m",
      "\u001b[1;31mFileNotFoundError\u001b[0m                         Traceback (most recent call last)",
      "Cell \u001b[1;32mIn[4], line 21\u001b[0m\n\u001b[0;32m     19\u001b[0m lines \u001b[38;5;241m=\u001b[39m []\n\u001b[0;32m     20\u001b[0m \u001b[38;5;66;03m# open the file\u001b[39;00m\n\u001b[1;32m---> 21\u001b[0m f \u001b[38;5;241m=\u001b[39m \u001b[38;5;28;43mopen\u001b[39;49m\u001b[43m(\u001b[49m\u001b[38;5;124;43m\"\u001b[39;49m\u001b[38;5;124;43mcounts.tsv\u001b[39;49m\u001b[38;5;124;43m\"\u001b[39;49m\u001b[43m,\u001b[49m\u001b[43m \u001b[49m\u001b[38;5;124;43m\"\u001b[39;49m\u001b[38;5;124;43mr\u001b[39;49m\u001b[38;5;124;43m\"\u001b[39;49m\u001b[43m)\u001b[49m\n\u001b[0;32m     22\u001b[0m \u001b[38;5;28;01mfor\u001b[39;00m x \u001b[38;5;129;01min\u001b[39;00m f:\n\u001b[0;32m     23\u001b[0m     lines\u001b[38;5;241m.\u001b[39mappend(x)\n",
      "File \u001b[1;32m~\\AppData\\Local\\Packages\\PythonSoftwareFoundation.Python.3.12_qbz5n2kfra8p0\\LocalCache\\local-packages\\Python312\\site-packages\\IPython\\core\\interactiveshell.py:310\u001b[0m, in \u001b[0;36m_modified_open\u001b[1;34m(file, *args, **kwargs)\u001b[0m\n\u001b[0;32m    303\u001b[0m \u001b[38;5;28;01mif\u001b[39;00m file \u001b[38;5;129;01min\u001b[39;00m {\u001b[38;5;241m0\u001b[39m, \u001b[38;5;241m1\u001b[39m, \u001b[38;5;241m2\u001b[39m}:\n\u001b[0;32m    304\u001b[0m     \u001b[38;5;28;01mraise\u001b[39;00m \u001b[38;5;167;01mValueError\u001b[39;00m(\n\u001b[0;32m    305\u001b[0m         \u001b[38;5;124mf\u001b[39m\u001b[38;5;124m\"\u001b[39m\u001b[38;5;124mIPython won\u001b[39m\u001b[38;5;124m'\u001b[39m\u001b[38;5;124mt let you open fd=\u001b[39m\u001b[38;5;132;01m{\u001b[39;00mfile\u001b[38;5;132;01m}\u001b[39;00m\u001b[38;5;124m by default \u001b[39m\u001b[38;5;124m\"\u001b[39m\n\u001b[0;32m    306\u001b[0m         \u001b[38;5;124m\"\u001b[39m\u001b[38;5;124mas it is likely to crash IPython. If you know what you are doing, \u001b[39m\u001b[38;5;124m\"\u001b[39m\n\u001b[0;32m    307\u001b[0m         \u001b[38;5;124m\"\u001b[39m\u001b[38;5;124myou can use builtins\u001b[39m\u001b[38;5;124m'\u001b[39m\u001b[38;5;124m open.\u001b[39m\u001b[38;5;124m\"\u001b[39m\n\u001b[0;32m    308\u001b[0m     )\n\u001b[1;32m--> 310\u001b[0m \u001b[38;5;28;01mreturn\u001b[39;00m \u001b[43mio_open\u001b[49m\u001b[43m(\u001b[49m\u001b[43mfile\u001b[49m\u001b[43m,\u001b[49m\u001b[43m \u001b[49m\u001b[38;5;241;43m*\u001b[39;49m\u001b[43margs\u001b[49m\u001b[43m,\u001b[49m\u001b[43m \u001b[49m\u001b[38;5;241;43m*\u001b[39;49m\u001b[38;5;241;43m*\u001b[39;49m\u001b[43mkwargs\u001b[49m\u001b[43m)\u001b[49m\n",
      "\u001b[1;31mFileNotFoundError\u001b[0m: [Errno 2] No such file or directory: 'counts.tsv'"
     ]
    }
   ],
   "source": [
    "import math\n",
    "import statistics as stat\n",
    "from scipy.interpolate.polyint import factorial\n",
    "import matplotlib.pyplot as plt\n",
    "import numpy as np\n",
    "\n",
    "# function to get data out of tsv file\n",
    "def parse_string(string):\n",
    "    length = len(string)\n",
    "    for j in range(2):\n",
    "        loc = string.find('\t')\n",
    "        string = string[loc + 1:length]\n",
    "    loc = string.find('\t')\n",
    "    string = string[0:loc]\n",
    "    return int(string)\n",
    "\n",
    "\n",
    "# writes the counts in the tsv file to an array\n",
    "lines = []\n",
    "# open the file\n",
    "f = open(\"counts.tsv\", \"r\")\n",
    "for x in f:\n",
    "    lines.append(x)\n",
    "# closes the file\n",
    "f.close()\n",
    "\n",
    "\n",
    "# initialize the counts and less_counts lists\n",
    "counts = []\n",
    "less_counts = []\n",
    "\n",
    "# add data from each line of counts.txt to the counts list\n",
    "for i in range(11, len(lines)):\n",
    "    counts.append(parse_string(lines[i]))\n",
    "# print(counts)\n",
    "\n",
    "# save the first 100 elements of counts as the list less_counts\n",
    "less_counts_len = 100\n",
    "less_counts.extend(counts[0:less_counts_len])\n",
    "\n",
    "\n",
    "# find the sum of the counts\n",
    "countsAverage = math.fsum(counts)\n",
    "less_countsAverage = math.fsum(less_counts)\n",
    "print(\"sum of the counts=\", countsAverage)\n",
    "\n",
    "# find the average of the counts\n",
    "countsAverage = countsAverage / len(counts)\n",
    "less_countsAverage = less_countsAverage / len(less_counts)\n",
    "print(\"counts average n=\", round(countsAverage, 2))\n",
    "print(\"less counts average n=\", round(less_countsAverage, 2))\n",
    "\n",
    "countsSTDev = stat.stdev(counts)\n",
    "less_countsSTDev = stat.stdev(less_counts)\n",
    "print(\"counts standard deviation: \", round(countsSTDev, 2))\n",
    "print(\"less counts standard deviation: \", round(less_countsSTDev, 2))\n",
    "\n",
    "# use the average n to find the Gauss distribution\n",
    "countsGauss = []\n",
    "less_countsGauss = []\n",
    "\n",
    "\n",
    "# determine maximum number of counts in\n",
    "nbins = 0\n",
    "for i in range(0, len(counts)):\n",
    "    if counts[i] > nbins:\n",
    "        nbins = counts[i]\n",
    "\n",
    "#calculate the Gauss frequency distributions\n",
    "for i in range(0, nbins):\n",
    "    countsGauss.append(1/(countsSTDev*math.sqrt(2*np.pi))* math.e **(-(i - countsAverage)**2 / (2 * countsSTDev ** 2)) * len(counts))\n",
    "    less_countsGauss.append(1/(less_countsSTDev*math.sqrt(2*np.pi))* math.e **(-(i - less_countsAverage)**2 / (2 * less_countsSTDev ** 2)) * less_counts_len)\n",
    "\n",
    "# plot Gauss distribution with average n\n",
    "xValues = np.linspace(0, nbins, nbins)\n",
    "\n",
    "fig, (plt1, plt2) = plt.subplots(1, 2)\n",
    "plt1.scatter(xValues, countsGauss, color=\"orange\", zorder = 2)\n",
    "plt2.scatter(xValues, less_countsGauss, color = \"orange\", zorder = 2)\n",
    "\n",
    "# plot the counts array as a histogram (counts the number of times there are 5 counts in the 1000 1 s intervals of data for example)\n",
    "plt1.hist(counts, nbins, zorder = 1)\n",
    "plt2.hist(less_counts, nbins, zorder = 1)\n",
    "plt1.savefig(\"gaussian.png\")\n",
    "plt2.savefig(\"gaussian_truncated.png\")\n",
    "\n",
    "\n"
   ]
  },
  {
   "cell_type": "code",
   "execution_count": null,
   "metadata": {},
   "outputs": [],
   "source": []
  }
 ],
 "metadata": {
  "colab": {
   "provenance": []
  },
  "kernelspec": {
   "display_name": "Python 3 (ipykernel)",
   "language": "python",
   "name": "python3"
  },
  "language_info": {
   "codemirror_mode": {
    "name": "ipython",
    "version": 3
   },
   "file_extension": ".py",
   "mimetype": "text/x-python",
   "name": "python",
   "nbconvert_exporter": "python",
   "pygments_lexer": "ipython3",
   "version": "3.12.2"
  }
 },
 "nbformat": 4,
 "nbformat_minor": 4
}

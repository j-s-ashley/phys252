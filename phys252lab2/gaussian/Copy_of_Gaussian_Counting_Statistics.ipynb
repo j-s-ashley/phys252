{
 "cells": [
  {
   "cell_type": "code",
   "execution_count": 1,
   "metadata": {
    "colab": {
     "base_uri": "https://localhost:8080/",
     "height": 408
    },
    "id": "Uut_z-FEkQmb",
    "outputId": "70d5281f-9cab-4704-905a-d9ecc0c6cf74"
   },
   "outputs": [
    {
     "name": "stderr",
     "output_type": "stream",
     "text": [
      "C:\\Users\\jorda\\AppData\\Local\\Temp\\ipykernel_20288\\3485699382.py:3: DeprecationWarning: `scipy.interpolate.polyint.factorial` is deprecated along with the `scipy.interpolate.polyint` namespace. `scipy.interpolate.polyint.factorial` will be removed in SciPy 1.14.0, and the `scipy.interpolate.polyint` namespace will be removed in SciPy 2.0.0.\n",
      "  from scipy.interpolate.polyint import factorial\n",
      "'rm' is not recognized as an internal or external command,\n",
      "operable program or batch file.\n"
     ]
    },
    {
     "name": "stdout",
     "output_type": "stream",
     "text": [
      "sum of the counts= 27159.0\n",
      "counts average n= 10.86\n",
      "less counts average n= 11.46\n",
      "counts standard deviation:  3.24\n",
      "less counts standard deviation:  3.21\n"
     ]
    },
    {
     "data": {
      "image/png": "[encoded data removed]",
      "text/plain": [
       "<Figure size 640x480 with 2 Axes>"
      ]
     },
     "metadata": {},
     "output_type": "display_data"
    }
   ],
   "source": [
    "import math\n",
    "import statistics as stat\n",
    "from scipy.interpolate.polyint import factorial\n",
    "import matplotlib.pyplot as plt\n",
    "import numpy as np\n",
    "\n",
    "# function to get data out of tsv file\n",
    "def parse_string(string):\n",
    "    length = len(string)\n",
    "    for j in range(2):\n",
    "        loc = string.find('\t')\n",
    "        string = string[loc + 1:length]\n",
    "    loc = string.find('\t')\n",
    "    string = string[0:loc]\n",
    "    return int(string)\n",
    "\n",
    "\n",
    "# writes the counts in the tsv file to an array\n",
    "lines = []\n",
    "# open the file\n",
    "f = open(\"counts.tsv\", \"r\")\n",
    "for x in f:\n",
    "    lines.append(x)\n",
    "# closes the file\n",
    "f.close()\n",
    "!rm counts.tsv #delete file from google colab\n",
    "\n",
    "# initialize the counts and less_counts lists\n",
    "counts = []\n",
    "less_counts = []\n",
    "\n",
    "# add data from each line of counts.txt to the counts list\n",
    "for i in range(11, len(lines)):\n",
    "    counts.append(parse_string(lines[i]))\n",
    "# print(counts)\n",
    "\n",
    "# save the first 100 elements of counts as the list less_counts\n",
    "less_counts_len = 100\n",
    "less_counts.extend(counts[0:less_counts_len])\n",
    "\n",
    "\n",
    "# find the sum of the counts\n",
    "countsAverage = math.fsum(counts)\n",
    "less_countsAverage = math.fsum(less_counts)\n",
    "print(\"sum of the counts=\", countsAverage)\n",
    "\n",
    "# find the average of the counts\n",
    "countsAverage = countsAverage / len(counts)\n",
    "less_countsAverage = less_countsAverage / len(less_counts)\n",
    "print(\"counts average n=\", round(countsAverage, 2))\n",
    "print(\"less counts average n=\", round(less_countsAverage, 2))\n",
    "\n",
    "countsSTDev = stat.stdev(counts)\n",
    "less_countsSTDev = stat.stdev(less_counts)\n",
    "print(\"counts standard deviation: \", round(countsSTDev, 2))\n",
    "print(\"less counts standard deviation: \", round(less_countsSTDev, 2))\n",
    "\n",
    "# use the average n to find the Gauss distribution\n",
    "countsGauss = []\n",
    "less_countsGauss = []\n",
    "\n",
    "\n",
    "# determine maximum number of counts in\n",
    "nbins = 0\n",
    "for i in range(0, len(counts)):\n",
    "    if counts[i] > nbins:\n",
    "        nbins = counts[i]\n",
    "\n",
    "#calculate the Gauss frequency distributions\n",
    "for i in range(0, nbins):\n",
    "    countsGauss.append(1/(countsSTDev*math.sqrt(2*np.pi))* math.e **(-(i - countsAverage)**2 / (2 * countsSTDev ** 2)) * len(counts))\n",
    "    less_countsGauss.append(1/(less_countsSTDev*math.sqrt(2*np.pi))* math.e **(-(i - less_countsAverage)**2 / (2 * less_countsSTDev ** 2)) * less_counts_len)\n",
    "\n",
    "# plot Gauss distribution with average n\n",
    "xValues = np.linspace(0, nbins, nbins)\n",
    "\n",
    "fig, (plt1, plt2) = plt.subplots(1, 2)\n",
    "plt1.scatter(xValues, countsGauss, color=\"orange\", zorder = 2)\n",
    "plt2.scatter(xValues, less_countsGauss, color = \"orange\", zorder = 2)\n",
    "\n",
    "# plot the counts array as a histogram (counts the number of times there are 5 counts in the 1000 1 s intervals of data for example)\n",
    "plt1.hist(counts, nbins, zorder = 1)\n",
    "plt2.hist(less_counts, nbins, zorder = 1)\n",
    "plt.show()\n",
    "\n",
    "\n"
   ]
  },
  {
   "cell_type": "code",
   "execution_count": null,
   "metadata": {},
   "outputs": [],
   "source": []
  }
 ],
 "metadata": {
  "colab": {
   "provenance": []
  },
  "kernelspec": {
   "display_name": "Python 3 (ipykernel)",
   "language": "python",
   "name": "python3"
  },
  "language_info": {
   "codemirror_mode": {
    "name": "ipython",
    "version": 3
   },
   "file_extension": ".py",
   "mimetype": "text/x-python",
   "name": "python",
   "nbconvert_exporter": "python",
   "pygments_lexer": "ipython3",
   "version": "3.12.1"
  }
 },
 "nbformat": 4,
 "nbformat_minor": 4
}

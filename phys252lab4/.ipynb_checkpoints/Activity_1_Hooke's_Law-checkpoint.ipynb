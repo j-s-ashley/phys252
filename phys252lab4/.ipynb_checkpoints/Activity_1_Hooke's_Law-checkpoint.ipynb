{
  "nbformat": 4,
  "nbformat_minor": 0,
  "metadata": {
    "colab": {
      "provenance": []
    },
    "kernelspec": {
      "name": "python3",
      "display_name": "Python 3"
    },
    "language_info": {
      "name": "python"
    }
  },
  "cells": [
    {
      "cell_type": "code",
      "source": [
        "pip install lmfit"
      ],
      "metadata": {
        "id": "Kmk-OW42dab-"
      },
      "execution_count": null,
      "outputs": []
    },
    {
      "cell_type": "code",
      "source": [
        "import numpy as np\n",
        "import matplotlib.pyplot as plt\n",
        "from lmfit import Model, Parameters, report_fit"
      ],
      "metadata": {
        "id": "fxcEwMyLkMQX"
      },
      "execution_count": null,
      "outputs": []
    },
    {
      "cell_type": "code",
      "source": [
        "# constants\n",
        "g = 9.8\n",
        "# variables\n",
        "mass = np.array([0.0,0.0,0.0,0.0,0.0,0.0,0.0])\n",
        "sigma_mass = np.array([0.0,0.0,0.0,0.0,0.0,0.0,0.0])\n",
        "displacement = np.array([0.0,0.0,0.0,0.0,0.0,0.0,0.0])\n",
        "sigma_displacecment = np.array([0.0,0.0,0.0,0.0,0.0,0.0,0.0])"
      ],
      "metadata": {
        "id": "Uut_z-FEkQmb"
      },
      "execution_count": null,
      "outputs": []
    },
    {
      "cell_type": "code",
      "source": [
        "# calculations\n",
        "force = mass * g\n",
        "sigma_force = sigma_mass * g\n",
        "k = mass * g / displacement\n",
        "relative_uncertainty = np.sqrt( (sigma_mass/mass)**2 + (sigma_displacecment/displacement)**2 )\n",
        "sigma_k = k * relative_uncertainty"
      ],
      "metadata": {
        "id": "b_WtRkjgkZea"
      },
      "execution_count": null,
      "outputs": []
    },
    {
      "cell_type": "code",
      "source": [
        "# fitting to find k\n",
        "def linear(x,gradient,b):\n",
        "    return gradient*x + b\n",
        "\n",
        "model = Model(linear,independent_vars=['x'])\n",
        "params = Parameters()\n",
        "params.add('gradient',value=8,vary=True)\n",
        "params.add('b',value=0.0001,vary=True)\n",
        "\n",
        "\n",
        "fit = model.fit(force, x= displacement, params=params, weights = 1/sigma_force)\n",
        "slope = np.round(fit.values['gradient'],3)\n",
        "intercept = np.round(fit.values['b'],3)\n",
        "print(fit.values)\n",
        "print(fit.fit_report())"
      ],
      "metadata": {
        "id": "Mdjjvp12kbK2"
      },
      "execution_count": null,
      "outputs": []
    },
    {
      "cell_type": "code",
      "source": [
        "# plotting\n",
        "plt.errorbar(displacement, force, yerr=sigma_force, fmt='ko', capsize=4, label='Data')\n",
        "plt.plot(displacement,linear(displacement,slope,intercept),'--r',label='Fit y='+str(slope)+'*x + '+str(intercept))\n",
        "plt.xlabel('Displacement')\n",
        "plt.ylabel('Force')\n",
        "plt.legend()"
      ],
      "metadata": {
        "id": "pUZmXeeruWro"
      },
      "execution_count": null,
      "outputs": []
    },
    {
      "cell_type": "code",
      "source": [],
      "metadata": {
        "id": "NttE1HBbuajL"
      },
      "execution_count": null,
      "outputs": []
    }
  ]
}